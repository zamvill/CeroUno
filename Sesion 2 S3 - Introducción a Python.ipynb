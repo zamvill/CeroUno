{
 "cells": [
  {
   "cell_type": "code",
   "execution_count": 4,
   "metadata": {},
   "outputs": [
    {
     "name": "stdout",
     "output_type": "stream",
     "text": [
      "De que tamaño es la contraseña que quieres generar10\n"
     ]
    },
    {
     "data": {
      "text/plain": [
       "'WEV6vI6hjT'"
      ]
     },
     "execution_count": 4,
     "metadata": {},
     "output_type": "execute_result"
    }
   ],
   "source": [
    "def generar(*args):\n",
    "  cadena=[]\n",
    "  for i in range (1,len+1):\n",
    "    cadena.append(random.choice([\"a\",\"b\",\"c\",\"d\",\"e\",\"f\",\"g\",\"h\",\"i\",\"j\",\"k\",\"l\",\"m\",\"n\",\"ñ\",\"o\",\"p\",\"q\",\"r\",\"s\",\"t\",\"v\",\"w\",\"x\",\"y\",\"z\",\"A\",\"B\",\"C\",\"D\",\"E\",\"F\",\"G\",\"H\",\"I\",\"J\",\"K\",\"L\",\"M\",\"N\",\"Ñ\",\"O\",\"P\",\"Q\",\"R\",\"S\",\"T\",\"V\",\"W\",\"X\",\"Y\",\"Z\",\"0\",\"1\",\"2\",\"3\",\"4\",\"5\",\"6\",\"7\",\"8\",\"9\"]))\n",
    "  contraseña = \"\".join(cadena)\n",
    "  return contraseña\n",
    "\n",
    "import random\n",
    "len = int (input (\"De que tamaño es la contraseña que quieres generar\") )\n",
    "generar (len)\n"
   ]
  },
  {
   "cell_type": "markdown",
   "metadata": {},
   "source": [
    "## EJERCICIOS EN CLASE"
   ]
  },
  {
   "cell_type": "code",
   "execution_count": null,
   "metadata": {},
   "outputs": [],
   "source": [
    "#Para los siguientes ejercicios , resolverlos generando una función"
   ]
  },
  {
   "cell_type": "markdown",
   "metadata": {},
   "source": [
    "1. Escribe una función que nos diga cuantos refrescos quedan en la nevera\n"
   ]
  },
  {
   "cell_type": "code",
   "execution_count": 3,
   "metadata": {},
   "outputs": [
    {
     "name": "stdout",
     "output_type": "stream",
     "text": [
      "el número de refrescos que quedan en la nevera son: 5\n",
      "None\n"
     ]
    }
   ],
   "source": [
    "#argumentos deben ser n= int\n",
    "#que diga el número de refresoc\n",
    "#debe imprimir el número de refrescos que quedan en la nevera\n",
    "\n",
    "def refrescos(n):\n",
    "    print(\"el número de refrescos que quedan en la nevera son: \"+str(n))\n",
    "    return\n",
    "\n",
    "print(refrescos(5))"
   ]
  },
  {
   "cell_type": "code",
   "execution_count": null,
   "metadata": {},
   "outputs": [],
   "source": []
  },
  {
   "cell_type": "markdown",
   "metadata": {},
   "source": [
    "2. Imprimir un saludo al nombre que el usuario ingrese"
   ]
  },
  {
   "cell_type": "code",
   "execution_count": 6,
   "metadata": {},
   "outputs": [
    {
     "name": "stdout",
     "output_type": "stream",
     "text": [
      "Hola Paco, como estas?\n",
      "None\n"
     ]
    }
   ],
   "source": [
    "def hello(n):\n",
    "    print(\"Hola \"+n+\", como estas?\")\n",
    "    return\n",
    "\n",
    "print(hello(\"Paco\"))"
   ]
  },
  {
   "cell_type": "markdown",
   "metadata": {},
   "source": [
    "3. Encuentra todos los divisores del número que ingrese el usuario"
   ]
  },
  {
   "cell_type": "code",
   "execution_count": 30,
   "metadata": {},
   "outputs": [
    {
     "name": "stdout",
     "output_type": "stream",
     "text": [
      "Capture un numero: 10\n",
      "Los divisores de numero son: \n",
      "[1, 2, 5, 10]\n"
     ]
    }
   ],
   "source": [
    "def divisores(num):\n",
    "    lista=[]\n",
    "    for i in range(1,num+1):\n",
    "        if num % i == 0:\n",
    "            lista.append(i)\n",
    "    return lista\n",
    "\n",
    "num = int(input(\"Capture un numero: \"))\n",
    "print(\"Los divisores de numero son: \")\n",
    "print(divisores(num))\n",
    "            "
   ]
  },
  {
   "cell_type": "markdown",
   "metadata": {},
   "source": [
    "4. Crea una función que imprima si quedan refrescos en la nevera"
   ]
  },
  {
   "cell_type": "code",
   "execution_count": 42,
   "metadata": {},
   "outputs": [
    {
     "name": "stdout",
     "output_type": "stream",
     "text": [
      "No Quedan Refrescos\n"
     ]
    }
   ],
   "source": [
    "#El resultado debe imprimirte \"Quedan refrescos\"  o \"No hay refrescos\"\n",
    "\n",
    "def quedan_refrescaos( n = 0):\n",
    "    print( 'Quedan refrescos' if n > 0 else 'No Quedan Refrescos')\n",
    "quedan_refrescaos(0)"
   ]
  },
  {
   "cell_type": "code",
   "execution_count": null,
   "metadata": {},
   "outputs": [],
   "source": []
  },
  {
   "cell_type": "markdown",
   "metadata": {},
   "source": [
    "5. Calcula la suma de todos los números ingresados en una lista"
   ]
  },
  {
   "cell_type": "code",
   "execution_count": 18,
   "metadata": {},
   "outputs": [
    {
     "name": "stdout",
     "output_type": "stream",
     "text": [
      "19\n"
     ]
    }
   ],
   "source": [
    "def sumalist(lista):\n",
    "    suma=0\n",
    "    for i in lista:\n",
    "        suma=suma+i\n",
    "    return suma\n",
    "\n",
    "lista =[4,7,5,2,1]\n",
    "\n",
    "print(sumalist(lista))"
   ]
  },
  {
   "cell_type": "markdown",
   "metadata": {},
   "source": [
    "6. Genera una función que te regrese el producto de todos los números de una lista\n",
    "\n",
    "Ej. 1x2x3 = 6"
   ]
  },
  {
   "cell_type": "code",
   "execution_count": 20,
   "metadata": {},
   "outputs": [
    {
     "name": "stdout",
     "output_type": "stream",
     "text": [
      "280\n"
     ]
    }
   ],
   "source": [
    "def prodlist(lista):\n",
    "    prod=1\n",
    "    for i in lista:\n",
    "        prod=prod*i\n",
    "    return prod\n",
    "\n",
    "lista =[4,7,5,2,1]\n",
    "\n",
    "print(prodlist(lista))"
   ]
  },
  {
   "cell_type": "markdown",
   "metadata": {},
   "source": [
    "7. Crea una función que te regrese la longitud de un string"
   ]
  },
  {
   "cell_type": "code",
   "execution_count": 22,
   "metadata": {},
   "outputs": [
    {
     "name": "stdout",
     "output_type": "stream",
     "text": [
      "17\n"
     ]
    }
   ],
   "source": [
    "def longi(s):\n",
    "    l=len(s)\n",
    "    return l\n",
    "\n",
    "print(longi(\"hola, como estas?\"))"
   ]
  },
  {
   "cell_type": "markdown",
   "metadata": {},
   "source": [
    "8. Crea una función que te calcule el factorial del número que ingreses \n",
    "#### def factorial(n=0):"
   ]
  },
  {
   "cell_type": "code",
   "execution_count": 49,
   "metadata": {},
   "outputs": [
    {
     "name": "stdout",
     "output_type": "stream",
     "text": [
      "Captura un numero: 6\n",
      "Factorial de 6 = 720\n"
     ]
    }
   ],
   "source": [
    "def factorial(n):\n",
    "    count = 1\n",
    "    z = 1\n",
    "    while z <= n:\n",
    "        count = count * z\n",
    "        z = z + 1\n",
    "    return count\n",
    "    \n",
    "\n",
    "num=int(input(\"Captura un numero: \"))\n",
    "f=factorial(num)\n",
    "print(\"Factorial de \"+ str(num) +\" = \" + str(f))      \n",
    "    "
   ]
  },
  {
   "cell_type": "code",
   "execution_count": 47,
   "metadata": {},
   "outputs": [],
   "source": [
    "### Otros metodos de tipo string"
   ]
  },
  {
   "cell_type": "code",
   "execution_count": 35,
   "metadata": {},
   "outputs": [
    {
     "name": "stdout",
     "output_type": "stream",
     "text": [
      "Hola este es un enunciado.\n"
     ]
    }
   ],
   "source": [
    "my_str = \"hola este es un enunciado.\"\n",
    "\n",
    "my_enun = my_str.capitalize()\n",
    "\n",
    "print (my_enun)"
   ]
  },
  {
   "cell_type": "code",
   "execution_count": 39,
   "metadata": {},
   "outputs": [
    {
     "name": "stdout",
     "output_type": "stream",
     "text": [
      "True\n"
     ]
    }
   ],
   "source": [
    "my_str = \"hola este es un enunciado.\"\n",
    "\n",
    "my_enum = my_str.endswith(\".\")\n",
    "\n",
    "print(my_enum)"
   ]
  },
  {
   "cell_type": "code",
   "execution_count": 40,
   "metadata": {},
   "outputs": [
    {
     "name": "stdout",
     "output_type": "stream",
     "text": [
      " Hola me llamo: Escribe aqui tu nombre\n"
     ]
    }
   ],
   "source": [
    "n ='Escribe aqui tu nombre'\n",
    "print(' Hola me llamo: {}'.format(n))"
   ]
  },
  {
   "cell_type": "code",
   "execution_count": null,
   "metadata": {},
   "outputs": [],
   "source": []
  }
 ],
 "metadata": {
  "kernelspec": {
   "display_name": "Python 3",
   "language": "python",
   "name": "python3"
  },
  "language_info": {
   "codemirror_mode": {
    "name": "ipython",
    "version": 3
   },
   "file_extension": ".py",
   "mimetype": "text/x-python",
   "name": "python",
   "nbconvert_exporter": "python",
   "pygments_lexer": "ipython3",
   "version": "3.7.4"
  }
 },
 "nbformat": 4,
 "nbformat_minor": 2
}
