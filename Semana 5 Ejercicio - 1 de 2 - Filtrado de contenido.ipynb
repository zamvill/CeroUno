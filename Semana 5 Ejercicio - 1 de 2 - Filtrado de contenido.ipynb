{
 "cells": [
  {
   "cell_type": "markdown",
   "metadata": {},
   "source": [
    "### 1 .Hagan un código que regrese la primera letra de cada palabra en una lista. (Output es una lista de las primeras letras)."
   ]
  },
  {
   "cell_type": "code",
   "execution_count": 13,
   "metadata": {},
   "outputs": [
    {
     "name": "stdout",
     "output_type": "stream",
     "text": [
      "['B', 't', 'l', 'z', 'r', 'c', 'c', 'j', 's', 'm']\n",
      "['B', 't', 'l', 'z', 'r', 'c', 'c', 'j', 's', 'm']\n"
     ]
    }
   ],
   "source": [
    "#maps\n",
    "listwords = ['Botella','toalla','luna','zapato','rojo','cero','ciencia','jirafa','saltillo','mesa']\n",
    "for i, word in enumerate(listwords):\n",
    "    listwords[i] = word[0]\n",
    "print(listwords)\n",
    "\n",
    "#lista de compresion\n",
    "listwords = ['Botella','toalla','luna','zapato','rojo','cero','ciencia','jirafa','saltillo','mesa']\n",
    "listaletras = [word[0] for word in listwords]\n",
    "print(listaletras)"
   ]
  },
  {
   "cell_type": "markdown",
   "metadata": {},
   "source": [
    "## 2. Hagan un código que regrese solamente las palábras con 5 letras o menos de una lista."
   ]
  },
  {
   "cell_type": "code",
   "execution_count": 19,
   "metadata": {},
   "outputs": [
    {
     "name": "stdout",
     "output_type": "stream",
     "text": [
      "['luna', 'rojo', 'cero', 'mesa']\n",
      "['luna', 'rojo', 'cero', 'mesa']\n"
     ]
    }
   ],
   "source": [
    "#maps\n",
    "listwords = ['Botella','toalla','luna','zapato','rojo','cero','ciencia','jirafa','saltillo','mesa']\n",
    "newlist = []\n",
    "for i, word in enumerate(listwords):\n",
    "    if len(word) <= 5:\n",
    "        newlist.append(word)\n",
    "print(newlist)\n",
    "\n",
    "#lista de compresion\n",
    "\n",
    "Palabras=[word for word in listwords if len(word) <= 5]\n",
    "print(Palabras)"
   ]
  },
  {
   "cell_type": "markdown",
   "metadata": {},
   "source": [
    "## 3. Hagan un código que reciba una lista de precios en pesos y los convierta en dólares (Asumir que 20 pesos = 1 dólar)."
   ]
  },
  {
   "cell_type": "code",
   "execution_count": 20,
   "metadata": {},
   "outputs": [
    {
     "name": "stdout",
     "output_type": "stream",
     "text": [
      "[6.5, 100.0, 22.5, 293.75, 60.0, 500.0, 18750.0]\n",
      "[6.5, 100.0, 22.5, 293.75, 60.0, 500.0, 18750.0]\n"
     ]
    }
   ],
   "source": [
    "#Dolares\n",
    "#por Maps\n",
    "Precios = [130.00, 2000.00, 450.00, 5875.00, 1200.00, 10000.00, 375000.00]\n",
    "print(list(map(lambda x: x/20,Precios)))\n",
    "\n",
    "#Por lista de compresion\n",
    "Precios = [130.00, 2000.00, 450.00, 5875.00, 1200.00, 10000.00, 375000.00]\n",
    "preciodoalres = [precio/20 for precio in Precios]\n",
    "print(preciodoalres)"
   ]
  },
  {
   "cell_type": "code",
   "execution_count": null,
   "metadata": {},
   "outputs": [],
   "source": []
  }
 ],
 "metadata": {
  "kernelspec": {
   "display_name": "Python 3",
   "language": "python",
   "name": "python3"
  },
  "language_info": {
   "codemirror_mode": {
    "name": "ipython",
    "version": 3
   },
   "file_extension": ".py",
   "mimetype": "text/x-python",
   "name": "python",
   "nbconvert_exporter": "python",
   "pygments_lexer": "ipython3",
   "version": "3.7.4"
  }
 },
 "nbformat": 4,
 "nbformat_minor": 2
}
