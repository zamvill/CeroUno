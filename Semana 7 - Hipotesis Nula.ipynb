{
 "cells": [
  {
   "cell_type": "code",
   "execution_count": 1,
   "metadata": {},
   "outputs": [],
   "source": [
    "import scipy.stats as st\n",
    "import seaborn as sns\n",
    "import pandas as pd\n",
    "import numpy as np\n",
    "import matplotlib.pyplot as plt\n",
    "sns.set_style('whitegrid')\n",
    "import itertools as it"
   ]
  },
  {
   "cell_type": "code",
   "execution_count": 2,
   "metadata": {
    "scrolled": true
   },
   "outputs": [
    {
     "data": {
      "text/html": [
       "<div>\n",
       "<style scoped>\n",
       "    .dataframe tbody tr th:only-of-type {\n",
       "        vertical-align: middle;\n",
       "    }\n",
       "\n",
       "    .dataframe tbody tr th {\n",
       "        vertical-align: top;\n",
       "    }\n",
       "\n",
       "    .dataframe thead th {\n",
       "        text-align: right;\n",
       "    }\n",
       "</style>\n",
       "<table border=\"1\" class=\"dataframe\">\n",
       "  <thead>\n",
       "    <tr style=\"text-align: right;\">\n",
       "      <th></th>\n",
       "      <th>Unnamed: 0</th>\n",
       "      <th>MarketID</th>\n",
       "      <th>MarketSize</th>\n",
       "      <th>LocationID</th>\n",
       "      <th>AgeOfStore</th>\n",
       "      <th>Promotion</th>\n",
       "      <th>week</th>\n",
       "      <th>SalesInThousands</th>\n",
       "    </tr>\n",
       "  </thead>\n",
       "  <tbody>\n",
       "    <tr>\n",
       "      <td>0</td>\n",
       "      <td>0</td>\n",
       "      <td>1</td>\n",
       "      <td>Medium</td>\n",
       "      <td>1</td>\n",
       "      <td>4</td>\n",
       "      <td>3</td>\n",
       "      <td>1</td>\n",
       "      <td>33.73</td>\n",
       "    </tr>\n",
       "    <tr>\n",
       "      <td>1</td>\n",
       "      <td>1</td>\n",
       "      <td>1</td>\n",
       "      <td>Medium</td>\n",
       "      <td>1</td>\n",
       "      <td>4</td>\n",
       "      <td>3</td>\n",
       "      <td>2</td>\n",
       "      <td>35.67</td>\n",
       "    </tr>\n",
       "    <tr>\n",
       "      <td>2</td>\n",
       "      <td>2</td>\n",
       "      <td>1</td>\n",
       "      <td>Medium</td>\n",
       "      <td>1</td>\n",
       "      <td>4</td>\n",
       "      <td>3</td>\n",
       "      <td>3</td>\n",
       "      <td>29.03</td>\n",
       "    </tr>\n",
       "    <tr>\n",
       "      <td>3</td>\n",
       "      <td>3</td>\n",
       "      <td>1</td>\n",
       "      <td>Medium</td>\n",
       "      <td>1</td>\n",
       "      <td>4</td>\n",
       "      <td>3</td>\n",
       "      <td>4</td>\n",
       "      <td>39.25</td>\n",
       "    </tr>\n",
       "    <tr>\n",
       "      <td>4</td>\n",
       "      <td>4</td>\n",
       "      <td>1</td>\n",
       "      <td>Medium</td>\n",
       "      <td>2</td>\n",
       "      <td>5</td>\n",
       "      <td>2</td>\n",
       "      <td>1</td>\n",
       "      <td>27.81</td>\n",
       "    </tr>\n",
       "  </tbody>\n",
       "</table>\n",
       "</div>"
      ],
      "text/plain": [
       "   Unnamed: 0  MarketID MarketSize  LocationID  AgeOfStore  Promotion  week  \\\n",
       "0           0         1     Medium           1           4          3     1   \n",
       "1           1         1     Medium           1           4          3     2   \n",
       "2           2         1     Medium           1           4          3     3   \n",
       "3           3         1     Medium           1           4          3     4   \n",
       "4           4         1     Medium           2           5          2     1   \n",
       "\n",
       "   SalesInThousands  \n",
       "0             33.73  \n",
       "1             35.67  \n",
       "2             29.03  \n",
       "3             39.25  \n",
       "4             27.81  "
      ]
     },
     "execution_count": 2,
     "metadata": {},
     "output_type": "execute_result"
    }
   ],
   "source": [
    "df = pd.read_csv(\"DataSetSemana1.csv\") \n",
    "# Preview the first 5 lines of the loaded data \n",
    "df.head()"
   ]
  },
  {
   "cell_type": "code",
   "execution_count": 4,
   "metadata": {},
   "outputs": [
    {
     "data": {
      "text/html": [
       "<div>\n",
       "<style scoped>\n",
       "    .dataframe tbody tr th:only-of-type {\n",
       "        vertical-align: middle;\n",
       "    }\n",
       "\n",
       "    .dataframe tbody tr th {\n",
       "        vertical-align: top;\n",
       "    }\n",
       "\n",
       "    .dataframe thead th {\n",
       "        text-align: right;\n",
       "    }\n",
       "</style>\n",
       "<table border=\"1\" class=\"dataframe\">\n",
       "  <thead>\n",
       "    <tr style=\"text-align: right;\">\n",
       "      <th></th>\n",
       "      <th>Unnamed: 0</th>\n",
       "      <th>MarketID</th>\n",
       "      <th>LocationID</th>\n",
       "      <th>AgeOfStore</th>\n",
       "      <th>Promotion</th>\n",
       "      <th>week</th>\n",
       "      <th>SalesInThousands</th>\n",
       "    </tr>\n",
       "  </thead>\n",
       "  <tbody>\n",
       "    <tr>\n",
       "      <td>count</td>\n",
       "      <td>548.000000</td>\n",
       "      <td>548.000000</td>\n",
       "      <td>548.000000</td>\n",
       "      <td>548.000000</td>\n",
       "      <td>548.000000</td>\n",
       "      <td>548.000000</td>\n",
       "      <td>548.000000</td>\n",
       "    </tr>\n",
       "    <tr>\n",
       "      <td>mean</td>\n",
       "      <td>273.500000</td>\n",
       "      <td>5.715328</td>\n",
       "      <td>479.656934</td>\n",
       "      <td>8.503650</td>\n",
       "      <td>2.029197</td>\n",
       "      <td>2.500000</td>\n",
       "      <td>53.466204</td>\n",
       "    </tr>\n",
       "    <tr>\n",
       "      <td>std</td>\n",
       "      <td>158.338246</td>\n",
       "      <td>2.877001</td>\n",
       "      <td>287.973679</td>\n",
       "      <td>6.638345</td>\n",
       "      <td>0.810729</td>\n",
       "      <td>1.119055</td>\n",
       "      <td>16.755216</td>\n",
       "    </tr>\n",
       "    <tr>\n",
       "      <td>min</td>\n",
       "      <td>0.000000</td>\n",
       "      <td>1.000000</td>\n",
       "      <td>1.000000</td>\n",
       "      <td>1.000000</td>\n",
       "      <td>1.000000</td>\n",
       "      <td>1.000000</td>\n",
       "      <td>17.340000</td>\n",
       "    </tr>\n",
       "    <tr>\n",
       "      <td>25%</td>\n",
       "      <td>136.750000</td>\n",
       "      <td>3.000000</td>\n",
       "      <td>216.000000</td>\n",
       "      <td>4.000000</td>\n",
       "      <td>1.000000</td>\n",
       "      <td>1.750000</td>\n",
       "      <td>42.545000</td>\n",
       "    </tr>\n",
       "    <tr>\n",
       "      <td>50%</td>\n",
       "      <td>273.500000</td>\n",
       "      <td>6.000000</td>\n",
       "      <td>504.000000</td>\n",
       "      <td>7.000000</td>\n",
       "      <td>2.000000</td>\n",
       "      <td>2.500000</td>\n",
       "      <td>50.200000</td>\n",
       "    </tr>\n",
       "    <tr>\n",
       "      <td>75%</td>\n",
       "      <td>410.250000</td>\n",
       "      <td>8.000000</td>\n",
       "      <td>708.000000</td>\n",
       "      <td>12.000000</td>\n",
       "      <td>3.000000</td>\n",
       "      <td>3.250000</td>\n",
       "      <td>60.477500</td>\n",
       "    </tr>\n",
       "    <tr>\n",
       "      <td>max</td>\n",
       "      <td>547.000000</td>\n",
       "      <td>10.000000</td>\n",
       "      <td>920.000000</td>\n",
       "      <td>28.000000</td>\n",
       "      <td>3.000000</td>\n",
       "      <td>4.000000</td>\n",
       "      <td>99.650000</td>\n",
       "    </tr>\n",
       "  </tbody>\n",
       "</table>\n",
       "</div>"
      ],
      "text/plain": [
       "       Unnamed: 0    MarketID  LocationID  AgeOfStore   Promotion        week  \\\n",
       "count  548.000000  548.000000  548.000000  548.000000  548.000000  548.000000   \n",
       "mean   273.500000    5.715328  479.656934    8.503650    2.029197    2.500000   \n",
       "std    158.338246    2.877001  287.973679    6.638345    0.810729    1.119055   \n",
       "min      0.000000    1.000000    1.000000    1.000000    1.000000    1.000000   \n",
       "25%    136.750000    3.000000  216.000000    4.000000    1.000000    1.750000   \n",
       "50%    273.500000    6.000000  504.000000    7.000000    2.000000    2.500000   \n",
       "75%    410.250000    8.000000  708.000000   12.000000    3.000000    3.250000   \n",
       "max    547.000000   10.000000  920.000000   28.000000    3.000000    4.000000   \n",
       "\n",
       "       SalesInThousands  \n",
       "count        548.000000  \n",
       "mean          53.466204  \n",
       "std           16.755216  \n",
       "min           17.340000  \n",
       "25%           42.545000  \n",
       "50%           50.200000  \n",
       "75%           60.477500  \n",
       "max           99.650000  "
      ]
     },
     "execution_count": 4,
     "metadata": {},
     "output_type": "execute_result"
    }
   ],
   "source": [
    "df.describe()"
   ]
  },
  {
   "cell_type": "code",
   "execution_count": 24,
   "metadata": {},
   "outputs": [
    {
     "data": {
      "text/plain": [
       "(array([0.10813733, 0.08218437, 0.08650987, 0.04325493, 0.07353339,\n",
       "        0.04325493, 0.02595296, 0.03460395, 0.00865099, 0.00432549,\n",
       "        0.03027845, 0.00432549, 0.01297648, 0.02162747, 0.00432549,\n",
       "        0.00865099]),\n",
       " array([ 1.    ,  2.6875,  4.375 ,  6.0625,  7.75  ,  9.4375, 11.125 ,\n",
       "        12.8125, 14.5   , 16.1875, 17.875 , 19.5625, 21.25  , 22.9375,\n",
       "        24.625 , 26.3125, 28.    ]),\n",
       " <a list of 16 Patch objects>)"
      ]
     },
     "execution_count": 24,
     "metadata": {},
     "output_type": "execute_result"
    },
    {
     "data": {
      "image/png": "[encoded data removed]",
      "text/plain": [
       "<Figure size 432x288 with 1 Axes>"
      ]
     },
     "metadata": {
      "needs_background": "light"
     },
     "output_type": "display_data"
    }
   ],
   "source": [
    "#Grafica 1 de Edad de las tiendas\n",
    "plt.hist(df['AgeOfStore'],density=True,bins=16,color='blue')\n",
    "\n",
    "#Se muestra que la edad de no es un uniforme"
   ]
  },
  {
   "cell_type": "code",
   "execution_count": 26,
   "metadata": {},
   "outputs": [
    {
     "data": {
      "text/plain": [
       "(array([0.00221701, 0.00775952, 0.01884455, 0.03236829, 0.02704747,\n",
       "        0.01263693, 0.00199531, 0.00820292, 0.00665102, 0.00376891]),\n",
       " array([17.34 , 25.571, 33.802, 42.033, 50.264, 58.495, 66.726, 74.957,\n",
       "        83.188, 91.419, 99.65 ]),\n",
       " <a list of 10 Patch objects>)"
      ]
     },
     "execution_count": 26,
     "metadata": {},
     "output_type": "execute_result"
    },
    {
     "data": {
      "image/png": "[encoded data removed]",
      "text/plain": [
       "<Figure size 432x288 with 1 Axes>"
      ]
     },
     "metadata": {
      "needs_background": "light"
     },
     "output_type": "display_data"
    }
   ],
   "source": [
    "#Grafica 2 de Ventas\n",
    "plt.hist(df['SalesInThousands'],density=True,color='blue')\n",
    "\n",
    "#Se muestra que las ventas tienden a subir y a bajar"
   ]
  },
  {
   "cell_type": "code",
   "execution_count": 34,
   "metadata": {},
   "outputs": [
    {
     "data": {
      "text/plain": [
       "(array([0.01182384, 0.01942489, 0.02533681, 0.03040417, 0.02702593,\n",
       "        0.00760104, 0.00084456, 0.00591192, 0.0084456 , 0.0084456 ]),\n",
       " array([30.81 , 37.694, 44.578, 51.462, 58.346, 65.23 , 72.114, 78.998,\n",
       "        85.882, 92.766, 99.65 ]),\n",
       " <a list of 10 Patch objects>)"
      ]
     },
     "execution_count": 34,
     "metadata": {},
     "output_type": "execute_result"
    },
    {
     "data": {
      "image/png": "[encoded data removed]",
      "text/plain": [
       "<Figure size 432x288 with 1 Axes>"
      ]
     },
     "metadata": {
      "needs_background": "light"
     },
     "output_type": "display_data"
    }
   ],
   "source": [
    "listPromotion=df.loc[:,'Promotion'] == 1\n",
    "df_prom1 = df.loc[listPromotion]\n",
    "#df_prom1.head()\n",
    "\n",
    "#Grafica 3 de Ventas de la Promocion 1\n",
    "plt.hist(df_prom1['SalesInThousands'],density=True,color='red')\n"
   ]
  },
  {
   "cell_type": "code",
   "execution_count": 35,
   "metadata": {},
   "outputs": [
    {
     "data": {
      "text/plain": [
       "(array([0.00373012, 0.01342843, 0.02163469, 0.03282504, 0.03804721,\n",
       "        0.01193638, 0.00149205, 0.00149205, 0.00969831, 0.00596819]),\n",
       " array([17.34, 24.47, 31.6 , 38.73, 45.86, 52.99, 60.12, 67.25, 74.38,\n",
       "        81.51, 88.64]),\n",
       " <a list of 10 Patch objects>)"
      ]
     },
     "execution_count": 35,
     "metadata": {},
     "output_type": "execute_result"
    },
    {
     "data": {
      "image/png": "[encoded data removed]",
      "text/plain": [
       "<Figure size 432x288 with 1 Axes>"
      ]
     },
     "metadata": {
      "needs_background": "light"
     },
     "output_type": "display_data"
    }
   ],
   "source": [
    "listPromotion=df.loc[:,'Promotion'] == 2\n",
    "df_prom2 = df.loc[listPromotion]\n",
    "#df_prom2.head()\n",
    "\n",
    "#Grafica 4 de Ventas de la Promocion 2\n",
    "plt.hist(df_prom2['SalesInThousands'],density=True,color='green')\n"
   ]
  },
  {
   "cell_type": "code",
   "execution_count": 36,
   "metadata": {},
   "outputs": [
    {
     "data": {
      "text/plain": [
       "(array([0.00357951, 0.00859082, 0.02219295, 0.03651098, 0.02434065,\n",
       "        0.01288623, 0.0007159 , 0.00715902, 0.01217033, 0.00644311]),\n",
       " array([22.18, 29.61, 37.04, 44.47, 51.9 , 59.33, 66.76, 74.19, 81.62,\n",
       "        89.05, 96.48]),\n",
       " <a list of 10 Patch objects>)"
      ]
     },
     "execution_count": 36,
     "metadata": {},
     "output_type": "execute_result"
    },
    {
     "data": {
      "image/png": "[encoded data removed]",
      "text/plain": [
       "<Figure size 432x288 with 1 Axes>"
      ]
     },
     "metadata": {
      "needs_background": "light"
     },
     "output_type": "display_data"
    }
   ],
   "source": [
    "listPromotion=df.loc[:,'Promotion'] == 3\n",
    "df_prom3 = df.loc[listPromotion]\n",
    "#df_prom3.head()\n",
    "\n",
    "#Grafica 5 de Ventas de la Promocion 3\n",
    "plt.hist(df_prom3['SalesInThousands'],density=True,color='yellow')\n"
   ]
  },
  {
   "cell_type": "code",
   "execution_count": 8,
   "metadata": {},
   "outputs": [
    {
     "data": {
      "text/plain": [
       "[('1', '2'), ('1', '3'), ('2', '3')]"
      ]
     },
     "execution_count": 8,
     "metadata": {},
     "output_type": "execute_result"
    }
   ],
   "source": [
    "list(it.combinations(['1','2','3'],2))"
   ]
  },
  {
   "cell_type": "code",
   "execution_count": 10,
   "metadata": {},
   "outputs": [
    {
     "data": {
      "text/plain": [
       "8.503649635036496"
      ]
     },
     "execution_count": 10,
     "metadata": {},
     "output_type": "execute_result"
    }
   ],
   "source": [
    "#media de edad de las tiendas\n",
    "df['AgeOfStore'].mean()"
   ]
  },
  {
   "cell_type": "code",
   "execution_count": 11,
   "metadata": {},
   "outputs": [
    {
     "data": {
      "text/plain": [
       "53.46620437956198"
      ]
     },
     "execution_count": 11,
     "metadata": {},
     "output_type": "execute_result"
    }
   ],
   "source": [
    "#media de ventas\n",
    "df['SalesInThousands'].mean()"
   ]
  },
  {
   "cell_type": "code",
   "execution_count": 45,
   "metadata": {},
   "outputs": [
    {
     "name": "stdout",
     "output_type": "stream",
     "text": [
      "Media de mercado pequeño: 57.40933333333332\n",
      "Media de mercado pequeño: 43.98534375000002\n",
      "Media de mercado pequeño: 70.11672619047624\n"
     ]
    }
   ],
   "source": [
    "#media de venta por tamaño de Mercado\n",
    "\n",
    "m_s = df.loc[df.loc[:,'MarketSize'] == 'Small','SalesInThousands'].mean()\n",
    "m_m = df.loc[df.loc[:,'MarketSize'] == 'Medium','SalesInThousands'].mean()\n",
    "m_l = df.loc[df.loc[:,'MarketSize'] == 'Large','SalesInThousands'].mean()\n",
    "\n",
    "print('Media de mercado pequeño: '+str(m_s))\n",
    "print('Media de mercado pequeño: '+str(m_m))\n",
    "print('Media de mercado pequeño: '+str(m_l))"
   ]
  },
  {
   "cell_type": "code",
   "execution_count": 7,
   "metadata": {},
   "outputs": [
    {
     "name": "stdout",
     "output_type": "stream",
     "text": [
      "Total de ventas por Promotion\n",
      "Promotion\n",
      "1     9993.03\n",
      "2     8897.93\n",
      "3    10408.52\n",
      "Name: SalesInThousands, dtype: float64\n",
      "---------------------------\n",
      "==== Media ventas por Promotion  =====\n",
      "Promotion\n",
      "1    58.099012\n",
      "2    47.329415\n",
      "3    55.364468\n",
      "Name: SalesInThousands, dtype: float64\n"
     ]
    }
   ],
   "source": [
    "#mejor promotion\n",
    "#sumas de promociones por grupo\n",
    "print('Total de ventas por Promotion')\n",
    "group_data = df.groupby(['Promotion'])['SalesInThousands'].sum() #sum function\n",
    "print(group_data)\n",
    "print('---------------------------')\n",
    "#medias de venta\n",
    "print('==== Media ventas por Promotion  =====')\n",
    "group_datamedia = df.groupby(['Promotion'])['SalesInThousands'].mean() #sum function\n",
    "print(group_datamedia)\n"
   ]
  },
  {
   "cell_type": "markdown",
   "metadata": {},
   "source": [
    "Hipotesis Alternativa\n",
    "- La promocion 1 es mejor que las demas (La media de la P1 es > P2 y P3)\n",
    "\n",
    "Hipotesis NULA\n",
    "- Todas las medias son iguales\n"
   ]
  },
  {
   "cell_type": "code",
   "execution_count": 40,
   "metadata": {},
   "outputs": [
    {
     "name": "stdout",
     "output_type": "stream",
     "text": [
      "====== Promocion 1 Vs Promocion 2========\n",
      " T = 6.453671702181005   P = 3.5506696512134566e-10\n",
      "\n",
      "\n",
      "====== Promocion 1 Vs Promocion 3========\n",
      " T = 1.5551383687293547   P = 0.12079667272313273\n",
      "\n",
      "\n",
      "====== Promocion 2 Vs Promocion 3========\n",
      " T = -4.88139271089348   P = 1.562894303627738e-06\n",
      "\n",
      "\n"
     ]
    }
   ],
   "source": [
    "dictio = {1: [1,2], 2: [1,3], 3: [2,3]}\n",
    "\n",
    "for i in range(1,4):\n",
    "    print('====== Promocion '+str(dictio[i][0])+ ' Vs Promocion '+str(dictio[i][1])+ '========')\n",
    "    t, p = st.ttest_ind(df.loc[df['Promotion'] == dictio[i][0], 'SalesInThousands'].values,\n",
    "                           df.loc[df['Promotion'] == dictio[i][1], 'SalesInThousands'].values,\n",
    "                           equal_var=True)\n",
    "\n",
    "    print (' T =' ,str(t), '  P =', str(p))\n",
    "    print('\\n')\n"
   ]
  },
  {
   "cell_type": "markdown",
   "metadata": {},
   "source": [
    "La mejor promo fue la 1 porque fue mayor que 2 y 3\n"
   ]
  },
  {
   "cell_type": "markdown",
   "metadata": {},
   "source": [
    " ¿Te atreverias a presentar este reporte a tu jefe?\n",
    "\n",
    "Si, porque debido al analisis de los datos de acuerdo a las promociones y las comparativas de \n",
    "estas, la promocion 1 fue la mejor y sobre salio sobre la 2 y 3. Se puede continuar con la \n",
    "misma estrategia de la promocion 1 y prodremos volver analizar la informacion generada dentro\n",
    "de un mes para verificar si continua siendo una buena promocion."
   ]
  }
 ],
 "metadata": {
  "kernelspec": {
   "display_name": "Python 3",
   "language": "python",
   "name": "python3"
  },
  "language_info": {
   "codemirror_mode": {
    "name": "ipython",
    "version": 3
   },
   "file_extension": ".py",
   "mimetype": "text/x-python",
   "name": "python",
   "nbconvert_exporter": "python",
   "pygments_lexer": "ipython3",
   "version": "3.7.4"
  }
 },
 "nbformat": 4,
 "nbformat_minor": 2
}
