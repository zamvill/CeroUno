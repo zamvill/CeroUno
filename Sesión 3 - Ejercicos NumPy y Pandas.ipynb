{
 "cells": [
  {
   "cell_type": "markdown",
   "metadata": {
    "colab_type": "text",
    "id": "ykDBllTHJQsX"
   },
   "source": [
    "## *Sesión de retos*\n",
    "\n",
    "### Objetivo de la Sesión 3:\n",
    "\n",
    "* Repasar NumPy resolviendo algunos ejercicios.\n",
    "* Repasar Pandas resolviendo algunos ejercicios.\n",
    "\n",
    "### *“Trabajar en equipo, divide el trabajo y multiplica los resultados”*, Anónimo."
   ]
  },
  {
   "cell_type": "code",
   "execution_count": 120,
   "metadata": {
    "colab": {},
    "colab_type": "code",
    "id": "l_LRDau8DwZq"
   },
   "outputs": [],
   "source": [
    "import numpy as np\n",
    "import pandas as pd"
   ]
  },
  {
   "cell_type": "markdown",
   "metadata": {
    "colab_type": "text",
    "id": "Pbp6nOk8TpYL"
   },
   "source": [
    "# 1. NumPy"
   ]
  },
  {
   "cell_type": "markdown",
   "metadata": {
    "colab_type": "text",
    "id": "QVMnYtMkfO5o"
   },
   "source": [
    "1. Muestra la versión de NumPy utilizada"
   ]
  },
  {
   "cell_type": "code",
   "execution_count": 121,
   "metadata": {
    "colab": {},
    "colab_type": "code",
    "id": "0NGnTNNBfWKA"
   },
   "outputs": [
    {
     "name": "stdout",
     "output_type": "stream",
     "text": [
      "Numpy version: 1.16.5\n"
     ]
    }
   ],
   "source": [
    "print('Numpy version: '+str(np.version.version))\n",
    "#pd.show_versions()"
   ]
  },
  {
   "cell_type": "markdown",
   "metadata": {
    "colab_type": "text",
    "id": "ufPFrLm8fXEl"
   },
   "source": [
    "2. Crear un arreglo 1D con enteros positivos aleatorios"
   ]
  },
  {
   "cell_type": "code",
   "execution_count": 11,
   "metadata": {
    "colab": {},
    "colab_type": "code",
    "id": "tuCrDoXwe-a3"
   },
   "outputs": [
    {
     "data": {
      "text/plain": [
       "array([81, 39, 68, 51, 93, 34, 60, 23, 82, 46])"
      ]
     },
     "execution_count": 11,
     "metadata": {},
     "output_type": "execute_result"
    }
   ],
   "source": [
    "np.random.randint(100, size=10)"
   ]
  },
  {
   "cell_type": "markdown",
   "metadata": {
    "colab_type": "text",
    "id": "HT50z35DgI5Z"
   },
   "source": [
    "3. Crear un arreglo booleano"
   ]
  },
  {
   "cell_type": "code",
   "execution_count": 18,
   "metadata": {
    "colab": {},
    "colab_type": "code",
    "id": "qNpgc4PJgJZD"
   },
   "outputs": [
    {
     "data": {
      "text/plain": [
       "array([ True, False])"
      ]
     },
     "execution_count": 18,
     "metadata": {},
     "output_type": "execute_result"
    }
   ],
   "source": [
    "tf = np.array([True, False])\n",
    "tf\n",
    "\n",
    "a = np.random.choice(tf, int(10)) \n",
    "a"
   ]
  },
  {
   "cell_type": "markdown",
   "metadata": {
    "colab_type": "text",
    "id": "72xU-25UgQFG"
   },
   "source": [
    "4. Extraer los items que sean divisibles en 3."
   ]
  },
  {
   "cell_type": "code",
   "execution_count": 3,
   "metadata": {
    "colab": {},
    "colab_type": "code",
    "id": "Y7hzsF0qgKZf"
   },
   "outputs": [
    {
     "name": "stdout",
     "output_type": "stream",
     "text": [
      "[ True False  True False False False False False False False]\n",
      "[681 164 555 781 725 238  38 364 169 244]\n",
      "[681 555]\n"
     ]
    }
   ],
   "source": [
    "matrix_int = np.random.randint(1000, size=10)\n",
    "\n",
    "a5b=matrix_int % 3==0\n",
    "print(a5b)\n",
    "print(matrix_int)\n",
    "#Arreglo de los valores dados por el filtro\n",
    "a5=matrix_int[a5b]\n",
    "print(a5)"
   ]
  },
  {
   "cell_type": "markdown",
   "metadata": {
    "colab_type": "text",
    "id": "UPYsCQFJgQwA"
   },
   "source": [
    "5. Convierte el arreglo booleano de 1D a 2D con tres filas (*reshape*)"
   ]
  },
  {
   "cell_type": "code",
   "execution_count": 30,
   "metadata": {
    "colab": {},
    "colab_type": "code",
    "id": "CXh7h2AQgKSX"
   },
   "outputs": [
    {
     "name": "stdout",
     "output_type": "stream",
     "text": [
      "[ True False False False  True  True]\n",
      "\n"
     ]
    },
    {
     "data": {
      "text/plain": [
       "array([[ True, False],\n",
       "       [False, False],\n",
       "       [ True,  True]])"
      ]
     },
     "execution_count": 30,
     "metadata": {},
     "output_type": "execute_result"
    }
   ],
   "source": [
    "random_array = np.random.choice(a=[False, True], size=6)\n",
    "print(random_array)\n",
    "print()\n",
    "np.reshape(random_array, [3, 2])\n",
    "\n"
   ]
  },
  {
   "cell_type": "markdown",
   "metadata": {
    "colab_type": "text",
    "id": "rHI3QxeOhE3-"
   },
   "source": [
    "6. Obtén los items comunes entre dos arreglos"
   ]
  },
  {
   "cell_type": "code",
   "execution_count": 4,
   "metadata": {
    "colab": {},
    "colab_type": "code",
    "id": "_lKGSmSbhDcS"
   },
   "outputs": [
    {
     "data": {
      "text/plain": [
       "array([25, 56, 78])"
      ]
     },
     "execution_count": 4,
     "metadata": {},
     "output_type": "execute_result"
    }
   ],
   "source": [
    "a1 = [1,56,34,3,5,78,25]\n",
    "a2 = [56,78,4,25,9,10,9]\n",
    "\n",
    "np.intersect1d(a1, a2)"
   ]
  },
  {
   "cell_type": "markdown",
   "metadata": {
    "colab_type": "text",
    "id": "_OtNQQK2gRo7"
   },
   "source": [
    "7. Extrae los números del vector creado en el ejercicio 2 que esten a dos números de distancia del valor promedio del arreglo."
   ]
  },
  {
   "cell_type": "code",
   "execution_count": 122,
   "metadata": {
    "colab": {},
    "colab_type": "code",
    "id": "NwmOy4nCgKOr",
    "scrolled": true
   },
   "outputs": [
    {
     "name": "stdout",
     "output_type": "stream",
     "text": [
      "[6 9 1 9 7 9 8 1 6 2]\n",
      "media:5.8\n",
      "[6 7 6]\n"
     ]
    }
   ],
   "source": [
    "rando_ints=np.random.randint(10, size=10)\n",
    "print(rando_ints)\n",
    "media=rando_ints.mean()\n",
    "print('media:'+str(media))\n",
    "res=np.logical_and(rando_ints >= media-2, rando_ints <= media+2)\n",
    "\n",
    "#print(res)\n",
    "rf=rando_ints[res]\n",
    "print(rf)\n"
   ]
  },
  {
   "cell_type": "markdown",
   "metadata": {
    "colab_type": "text",
    "id": "gvNrTraKgSZh"
   },
   "source": [
    "8. Muestra solo 3 decimales en un vector."
   ]
  },
  {
   "cell_type": "code",
   "execution_count": 28,
   "metadata": {
    "colab": {},
    "colab_type": "code",
    "id": "1HQfRpemgKLb"
   },
   "outputs": [
    {
     "data": {
      "text/plain": [
       "array([-1.485,  0.346,  1.174, -0.212, -0.006,  1.05 ,  0.19 ,  1.206,\n",
       "        0.543, -1.383])"
      ]
     },
     "execution_count": 28,
     "metadata": {},
     "output_type": "execute_result"
    }
   ],
   "source": [
    "v = np.random.randn(10)\n",
    "np.round(v, decimals=3)\n"
   ]
  },
  {
   "cell_type": "markdown",
   "metadata": {
    "colab_type": "text",
    "id": "TwNsufyigTCG"
   },
   "source": [
    "9. Crea una atriz de 3x3 con los valores del 0 a 8"
   ]
  },
  {
   "cell_type": "code",
   "execution_count": 83,
   "metadata": {
    "colab": {},
    "colab_type": "code",
    "id": "HnST7oyFgKIK"
   },
   "outputs": [
    {
     "data": {
      "text/plain": [
       "array([[0, 1, 2],\n",
       "       [3, 4, 5],\n",
       "       [6, 7, 8]])"
      ]
     },
     "execution_count": 83,
     "metadata": {},
     "output_type": "execute_result"
    }
   ],
   "source": [
    "np.arange(9).reshape(3, 3)\n"
   ]
  },
  {
   "cell_type": "markdown",
   "metadata": {
    "colab_type": "text",
    "id": "l9wHdeTygTTW"
   },
   "source": [
    "10. Del siguiente areglo [1,2,0,0,4,] encuentra los índices donde los elementos sean diferente a cero."
   ]
  },
  {
   "cell_type": "code",
   "execution_count": 84,
   "metadata": {
    "colab": {},
    "colab_type": "code",
    "id": "DQRdnk4UgVHK"
   },
   "outputs": [
    {
     "data": {
      "text/plain": [
       "(array([0, 1, 4], dtype=int64),)"
      ]
     },
     "execution_count": 84,
     "metadata": {},
     "output_type": "execute_result"
    }
   ],
   "source": [
    "arreglo=np.array([1,2,0,0,4])\n",
    "r=np.where(arreglo != 0)\n",
    "r\n"
   ]
  },
  {
   "cell_type": "markdown",
   "metadata": {
    "colab_type": "text",
    "id": "xh5IJIeAgThu"
   },
   "source": [
    "11. Crea un vector aleatorio de 30 elementos y encuentra la media."
   ]
  },
  {
   "cell_type": "code",
   "execution_count": 123,
   "metadata": {
    "colab": {},
    "colab_type": "code",
    "id": "9d-XogxjB4YF"
   },
   "outputs": [
    {
     "name": "stdout",
     "output_type": "stream",
     "text": [
      "[48 99 95 65 92 19 44 45 23 21 19 87  2 18 73 27 35 23 24  7 69 68 28 34\n",
      " 29 46 90  8 52 25]\n",
      "43.833333333333336\n"
     ]
    }
   ],
   "source": [
    "v30 = np.random.randint(100, size=30)\n",
    "print(v30)\n",
    "print(v30.mean())"
   ]
  },
  {
   "cell_type": "markdown",
   "metadata": {
    "colab_type": "text",
    "id": "Wo4p6o7DB5XQ"
   },
   "source": [
    "12. Crea un arreglo 2D con 1 en los bordes y 0 dentro. Por ejemplo:\n",
    "1 1 1 1 1\n",
    "1 0 0 0 1\n",
    "1 0 0 0 1\n",
    "1 1 1 1 1"
   ]
  },
  {
   "cell_type": "code",
   "execution_count": 74,
   "metadata": {
    "colab": {},
    "colab_type": "code",
    "id": "1mY_MRl1gUcy"
   },
   "outputs": [
    {
     "data": {
      "text/plain": [
       "array([[1., 1., 1., 1., 1.],\n",
       "       [1., 0., 0., 0., 1.],\n",
       "       [1., 0., 0., 0., 1.],\n",
       "       [1., 0., 0., 0., 1.],\n",
       "       [1., 1., 1., 1., 1.]])"
      ]
     },
     "execution_count": 74,
     "metadata": {},
     "output_type": "execute_result"
    }
   ],
   "source": [
    "farray = np.ones((5,5))\n",
    "farray[1:-1,1:-1]=0\n",
    "farray"
   ]
  },
  {
   "cell_type": "markdown",
   "metadata": {
    "colab_type": "text",
    "id": "PTHTcSFUCH56"
   },
   "source": [
    "13. ¿Cuál es el resultado de la siguiente expresión?\n",
    "\n",
    "`0 * np.nan`\n",
    "\n",
    "`np.nan == np.nan`\n",
    "\n",
    "`np.inf > np.nan`\n",
    "\n",
    "`np.nan - np.nan`\n",
    "\n",
    "`np.nan in set([np.nan])`\n",
    "\n",
    "`0.3 == 3 * 0.1`"
   ]
  },
  {
   "cell_type": "code",
   "execution_count": 124,
   "metadata": {
    "colab": {},
    "colab_type": "code",
    "id": "SjbCfONzgKFX"
   },
   "outputs": [
    {
     "data": {
      "text/plain": [
       "False"
      ]
     },
     "execution_count": 124,
     "metadata": {},
     "output_type": "execute_result"
    }
   ],
   "source": [
    "0 * np.nan\n",
    "\n",
    "np.nan == np.nan\n",
    "\n",
    "np.inf > np.nan\n",
    "\n",
    "np.nan - np.nan\n",
    "\n",
    "np.nan in set([np.nan])\n",
    "#3 * 0.1\n",
    "0.3 == 3 * 0.1\n",
    "\n",
    "#n=np.around(np.array([3*0.1]),1)\n",
    "\n",
    "#0.3 == n"
   ]
  },
  {
   "cell_type": "markdown",
   "metadata": {
    "colab_type": "text",
    "id": "_fUrAJmuCjG0"
   },
   "source": [
    "\n",
    "14. Crea una matriz de 5x5 con valores 1, 2, 3, 4 justo después de la diagonal."
   ]
  },
  {
   "cell_type": "code",
   "execution_count": 30,
   "metadata": {
    "colab": {},
    "colab_type": "code",
    "id": "N7cPSHdGgKCh"
   },
   "outputs": [
    {
     "data": {
      "text/plain": [
       "array([[ 1,  9,  4,  4, 14],\n",
       "       [16,  7,  6, 14, 17],\n",
       "       [16, 13,  7, 16,  8],\n",
       "       [12,  4,  1, 14,  0],\n",
       "       [15, 15, 18,  6, 12]])"
      ]
     },
     "execution_count": 30,
     "metadata": {},
     "output_type": "execute_result"
    }
   ],
   "source": [
    "ma=np.random.randint(0,19,(5,5))\n",
    "ma"
   ]
  },
  {
   "cell_type": "code",
   "execution_count": 102,
   "metadata": {},
   "outputs": [
    {
     "data": {
      "text/plain": [
       "array([[ 1,  1,  4,  4, 14],\n",
       "       [16,  7,  2, 14, 17],\n",
       "       [16, 13,  7,  3,  8],\n",
       "       [12,  4,  1, 14,  4],\n",
       "       [15, 15, 18,  6, 12]])"
      ]
     },
     "execution_count": 102,
     "metadata": {},
     "output_type": "execute_result"
    }
   ],
   "source": [
    "#ma.diagonal(0)\n",
    "diag=np.arange(4)\n",
    "#diag\n",
    "ma[diag,diag+1]=diag+1\n",
    "ma"
   ]
  },
  {
   "cell_type": "markdown",
   "metadata": {
    "colab_type": "text",
    "id": "4YTdQAxaCwqo"
   },
   "source": [
    "15. Normaliza una matriz aleatoria de 5x5"
   ]
  },
  {
   "cell_type": "code",
   "execution_count": 118,
   "metadata": {
    "colab": {},
    "colab_type": "code",
    "id": "gsesZuXugJ_U"
   },
   "outputs": [
    {
     "name": "stdout",
     "output_type": "stream",
     "text": [
      "[[ 6 12 18 15  4]\n",
      " [ 5  3 18 24 23]\n",
      " [22 12  5 17  6]\n",
      " [15 12  7 22  8]\n",
      " [ 8  5  8  0  1]]\n",
      "\n",
      "[55 73 62 64 22]\n",
      "\n",
      "[[0.10909091 0.21818182 0.32727273 0.27272727 0.07272727]\n",
      " [0.06849315 0.04109589 0.24657534 0.32876712 0.31506849]\n",
      " [0.35483871 0.19354839 0.08064516 0.27419355 0.09677419]\n",
      " [0.234375   0.1875     0.109375   0.34375    0.125     ]\n",
      " [0.36363636 0.22727273 0.36363636 0.         0.04545455]]\n"
     ]
    }
   ],
   "source": [
    "ma = np.random.randint(0, 25, 25).reshape(5, 5)\n",
    "print(ma)\n",
    "print()\n",
    "row_sums = ma.sum(axis=1)\n",
    "print(row_sums)\n",
    "print()\n",
    "f = ma / row_sums[:, np.newaxis]\n",
    "print(f)\n"
   ]
  },
  {
   "cell_type": "markdown",
   "metadata": {
    "colab_type": "text",
    "id": "shifhibhVaGm"
   },
   "source": [
    "# 2. Pandas"
   ]
  },
  {
   "cell_type": "markdown",
   "metadata": {
    "colab_type": "text",
    "id": "KBII-ub3C83k"
   },
   "source": [
    "1. Imprime toda la información de versión de las librerias que necesita la biblioteca de pangas."
   ]
  },
  {
   "cell_type": "code",
   "execution_count": 40,
   "metadata": {
    "colab": {},
    "colab_type": "code",
    "id": "YhnQ62d0iSmO"
   },
   "outputs": [
    {
     "name": "stdout",
     "output_type": "stream",
     "text": [
      "0.25.1\n"
     ]
    }
   ],
   "source": [
    "import pandas as pd\n",
    "print(pd.__version__)\n",
    "#print(pd.show_versions())"
   ]
  },
  {
   "cell_type": "markdown",
   "metadata": {
    "colab_type": "text",
    "id": "Qib5ZPvRDi8_"
   },
   "source": [
    "Considera el siguiente diccionario y lista.\n",
    "\n",
    "\n",
    "```\n",
    "data = {\n",
    "     'animal': ['cat', 'cat', 'snake', 'dog', 'dog', 'cat', 'snake', 'cat', 'dog', 'dog'],\n",
    "     'age': [2.5, 3, 0.5, np.nan, 5, 2, 4.5, np.nan, 7, 3],\n",
    "     'visits': [1, 3, 2, 3, 2, 3, 1, 1, 2, 1],\n",
    "     'priority': ['yes', 'yes', 'no', 'yes', 'no', 'no', 'no', 'yes', 'no', 'no']\n",
    "}\n",
    "\n",
    "labels = ['a', 'b', 'c', 'd', 'e', 'f', 'g', 'h', 'i', 'j']\n",
    "```"
   ]
  },
  {
   "cell_type": "code",
   "execution_count": 32,
   "metadata": {},
   "outputs": [],
   "source": [
    "data = {\n",
    "     'animal': ['cat', 'cat', 'snake', 'dog', 'dog', 'cat', 'snake', 'cat', 'dog', 'dog'],\n",
    "     'age': [2.5, 3, 0.5, np.nan, 5, 2, 4.5, np.nan, 7, 3],\n",
    "     'visits': [1, 3, 2, 3, 2, 3, 1, 1, 2, 1],\n",
    "     'priority': ['yes', 'yes', 'no', 'yes', 'no', 'no', 'no', 'yes', 'no', 'no']\n",
    "}\n",
    "\n",
    "labels = ['a', 'b', 'c', 'd', 'e', 'f', 'g', 'h', 'i', 'j']"
   ]
  },
  {
   "cell_type": "markdown",
   "metadata": {
    "colab_type": "text",
    "id": "ke6gyUpZNMLN"
   },
   "source": [
    "2. Crea un DataFrame con el diccionario *data* que tenga como índices los valores de la lista *labels*."
   ]
  },
  {
   "cell_type": "code",
   "execution_count": 33,
   "metadata": {
    "colab": {},
    "colab_type": "code",
    "id": "OE6nyX2VDjGi"
   },
   "outputs": [
    {
     "data": {
      "text/html": [
       "<div>\n",
       "<style scoped>\n",
       "    .dataframe tbody tr th:only-of-type {\n",
       "        vertical-align: middle;\n",
       "    }\n",
       "\n",
       "    .dataframe tbody tr th {\n",
       "        vertical-align: top;\n",
       "    }\n",
       "\n",
       "    .dataframe thead th {\n",
       "        text-align: right;\n",
       "    }\n",
       "</style>\n",
       "<table border=\"1\" class=\"dataframe\">\n",
       "  <thead>\n",
       "    <tr style=\"text-align: right;\">\n",
       "      <th></th>\n",
       "      <th>animal</th>\n",
       "      <th>age</th>\n",
       "      <th>visits</th>\n",
       "      <th>priority</th>\n",
       "    </tr>\n",
       "  </thead>\n",
       "  <tbody>\n",
       "    <tr>\n",
       "      <td>a</td>\n",
       "      <td>cat</td>\n",
       "      <td>2.5</td>\n",
       "      <td>1</td>\n",
       "      <td>yes</td>\n",
       "    </tr>\n",
       "    <tr>\n",
       "      <td>b</td>\n",
       "      <td>cat</td>\n",
       "      <td>3.0</td>\n",
       "      <td>3</td>\n",
       "      <td>yes</td>\n",
       "    </tr>\n",
       "    <tr>\n",
       "      <td>c</td>\n",
       "      <td>snake</td>\n",
       "      <td>0.5</td>\n",
       "      <td>2</td>\n",
       "      <td>no</td>\n",
       "    </tr>\n",
       "    <tr>\n",
       "      <td>d</td>\n",
       "      <td>dog</td>\n",
       "      <td>NaN</td>\n",
       "      <td>3</td>\n",
       "      <td>yes</td>\n",
       "    </tr>\n",
       "    <tr>\n",
       "      <td>e</td>\n",
       "      <td>dog</td>\n",
       "      <td>5.0</td>\n",
       "      <td>2</td>\n",
       "      <td>no</td>\n",
       "    </tr>\n",
       "    <tr>\n",
       "      <td>f</td>\n",
       "      <td>cat</td>\n",
       "      <td>2.0</td>\n",
       "      <td>3</td>\n",
       "      <td>no</td>\n",
       "    </tr>\n",
       "    <tr>\n",
       "      <td>g</td>\n",
       "      <td>snake</td>\n",
       "      <td>4.5</td>\n",
       "      <td>1</td>\n",
       "      <td>no</td>\n",
       "    </tr>\n",
       "    <tr>\n",
       "      <td>h</td>\n",
       "      <td>cat</td>\n",
       "      <td>NaN</td>\n",
       "      <td>1</td>\n",
       "      <td>yes</td>\n",
       "    </tr>\n",
       "    <tr>\n",
       "      <td>i</td>\n",
       "      <td>dog</td>\n",
       "      <td>7.0</td>\n",
       "      <td>2</td>\n",
       "      <td>no</td>\n",
       "    </tr>\n",
       "    <tr>\n",
       "      <td>j</td>\n",
       "      <td>dog</td>\n",
       "      <td>3.0</td>\n",
       "      <td>1</td>\n",
       "      <td>no</td>\n",
       "    </tr>\n",
       "  </tbody>\n",
       "</table>\n",
       "</div>"
      ],
      "text/plain": [
       "  animal  age  visits priority\n",
       "a    cat  2.5       1      yes\n",
       "b    cat  3.0       3      yes\n",
       "c  snake  0.5       2       no\n",
       "d    dog  NaN       3      yes\n",
       "e    dog  5.0       2       no\n",
       "f    cat  2.0       3       no\n",
       "g  snake  4.5       1       no\n",
       "h    cat  NaN       1      yes\n",
       "i    dog  7.0       2       no\n",
       "j    dog  3.0       1       no"
      ]
     },
     "execution_count": 33,
     "metadata": {},
     "output_type": "execute_result"
    }
   ],
   "source": [
    "df=pd.DataFrame(data=data,index=labels)\n",
    "df"
   ]
  },
  {
   "cell_type": "markdown",
   "metadata": {
    "colab_type": "text",
    "id": "mCFvk9YxDjOv"
   },
   "source": [
    "3. Muestra una descripción o información básica acerca del DataFrame y sus datos. (Pista: existe una función que lo muestra)."
   ]
  },
  {
   "cell_type": "code",
   "execution_count": 35,
   "metadata": {
    "colab": {},
    "colab_type": "code",
    "id": "7NvurAz-DjYt"
   },
   "outputs": [
    {
     "data": {
      "text/html": [
       "<div>\n",
       "<style scoped>\n",
       "    .dataframe tbody tr th:only-of-type {\n",
       "        vertical-align: middle;\n",
       "    }\n",
       "\n",
       "    .dataframe tbody tr th {\n",
       "        vertical-align: top;\n",
       "    }\n",
       "\n",
       "    .dataframe thead th {\n",
       "        text-align: right;\n",
       "    }\n",
       "</style>\n",
       "<table border=\"1\" class=\"dataframe\">\n",
       "  <thead>\n",
       "    <tr style=\"text-align: right;\">\n",
       "      <th></th>\n",
       "      <th>animal</th>\n",
       "      <th>age</th>\n",
       "      <th>visits</th>\n",
       "      <th>priority</th>\n",
       "    </tr>\n",
       "  </thead>\n",
       "  <tbody>\n",
       "    <tr>\n",
       "      <td>count</td>\n",
       "      <td>10</td>\n",
       "      <td>8.000000</td>\n",
       "      <td>10.000000</td>\n",
       "      <td>10</td>\n",
       "    </tr>\n",
       "    <tr>\n",
       "      <td>unique</td>\n",
       "      <td>3</td>\n",
       "      <td>NaN</td>\n",
       "      <td>NaN</td>\n",
       "      <td>2</td>\n",
       "    </tr>\n",
       "    <tr>\n",
       "      <td>top</td>\n",
       "      <td>dog</td>\n",
       "      <td>NaN</td>\n",
       "      <td>NaN</td>\n",
       "      <td>no</td>\n",
       "    </tr>\n",
       "    <tr>\n",
       "      <td>freq</td>\n",
       "      <td>4</td>\n",
       "      <td>NaN</td>\n",
       "      <td>NaN</td>\n",
       "      <td>6</td>\n",
       "    </tr>\n",
       "    <tr>\n",
       "      <td>mean</td>\n",
       "      <td>NaN</td>\n",
       "      <td>3.437500</td>\n",
       "      <td>1.900000</td>\n",
       "      <td>NaN</td>\n",
       "    </tr>\n",
       "    <tr>\n",
       "      <td>std</td>\n",
       "      <td>NaN</td>\n",
       "      <td>2.007797</td>\n",
       "      <td>0.875595</td>\n",
       "      <td>NaN</td>\n",
       "    </tr>\n",
       "    <tr>\n",
       "      <td>min</td>\n",
       "      <td>NaN</td>\n",
       "      <td>0.500000</td>\n",
       "      <td>1.000000</td>\n",
       "      <td>NaN</td>\n",
       "    </tr>\n",
       "    <tr>\n",
       "      <td>25%</td>\n",
       "      <td>NaN</td>\n",
       "      <td>2.375000</td>\n",
       "      <td>1.000000</td>\n",
       "      <td>NaN</td>\n",
       "    </tr>\n",
       "    <tr>\n",
       "      <td>50%</td>\n",
       "      <td>NaN</td>\n",
       "      <td>3.000000</td>\n",
       "      <td>2.000000</td>\n",
       "      <td>NaN</td>\n",
       "    </tr>\n",
       "    <tr>\n",
       "      <td>75%</td>\n",
       "      <td>NaN</td>\n",
       "      <td>4.625000</td>\n",
       "      <td>2.750000</td>\n",
       "      <td>NaN</td>\n",
       "    </tr>\n",
       "    <tr>\n",
       "      <td>max</td>\n",
       "      <td>NaN</td>\n",
       "      <td>7.000000</td>\n",
       "      <td>3.000000</td>\n",
       "      <td>NaN</td>\n",
       "    </tr>\n",
       "  </tbody>\n",
       "</table>\n",
       "</div>"
      ],
      "text/plain": [
       "       animal       age     visits priority\n",
       "count      10  8.000000  10.000000       10\n",
       "unique      3       NaN        NaN        2\n",
       "top       dog       NaN        NaN       no\n",
       "freq        4       NaN        NaN        6\n",
       "mean      NaN  3.437500   1.900000      NaN\n",
       "std       NaN  2.007797   0.875595      NaN\n",
       "min       NaN  0.500000   1.000000      NaN\n",
       "25%       NaN  2.375000   1.000000      NaN\n",
       "50%       NaN  3.000000   2.000000      NaN\n",
       "75%       NaN  4.625000   2.750000      NaN\n",
       "max       NaN  7.000000   3.000000      NaN"
      ]
     },
     "execution_count": 35,
     "metadata": {},
     "output_type": "execute_result"
    }
   ],
   "source": [
    "#df.describe()\n",
    "df.describe(include='all')"
   ]
  },
  {
   "cell_type": "markdown",
   "metadata": {
    "colab_type": "text",
    "id": "DAD9y4NEDj4f"
   },
   "source": [
    "4. Regresa las primeras 3 filas del DataFrame"
   ]
  },
  {
   "cell_type": "code",
   "execution_count": 42,
   "metadata": {
    "colab": {},
    "colab_type": "code",
    "id": "SldIl9R_DkDG"
   },
   "outputs": [
    {
     "data": {
      "text/html": [
       "<div>\n",
       "<style scoped>\n",
       "    .dataframe tbody tr th:only-of-type {\n",
       "        vertical-align: middle;\n",
       "    }\n",
       "\n",
       "    .dataframe tbody tr th {\n",
       "        vertical-align: top;\n",
       "    }\n",
       "\n",
       "    .dataframe thead th {\n",
       "        text-align: right;\n",
       "    }\n",
       "</style>\n",
       "<table border=\"1\" class=\"dataframe\">\n",
       "  <thead>\n",
       "    <tr style=\"text-align: right;\">\n",
       "      <th></th>\n",
       "      <th>animal</th>\n",
       "      <th>age</th>\n",
       "      <th>visits</th>\n",
       "      <th>priority</th>\n",
       "    </tr>\n",
       "  </thead>\n",
       "  <tbody>\n",
       "    <tr>\n",
       "      <td>a</td>\n",
       "      <td>cat</td>\n",
       "      <td>2.5</td>\n",
       "      <td>1</td>\n",
       "      <td>yes</td>\n",
       "    </tr>\n",
       "    <tr>\n",
       "      <td>b</td>\n",
       "      <td>cat</td>\n",
       "      <td>3.0</td>\n",
       "      <td>3</td>\n",
       "      <td>yes</td>\n",
       "    </tr>\n",
       "    <tr>\n",
       "      <td>c</td>\n",
       "      <td>snake</td>\n",
       "      <td>0.5</td>\n",
       "      <td>2</td>\n",
       "      <td>no</td>\n",
       "    </tr>\n",
       "  </tbody>\n",
       "</table>\n",
       "</div>"
      ],
      "text/plain": [
       "  animal  age  visits priority\n",
       "a    cat  2.5       1      yes\n",
       "b    cat  3.0       3      yes\n",
       "c  snake  0.5       2       no"
      ]
     },
     "execution_count": 42,
     "metadata": {},
     "output_type": "execute_result"
    }
   ],
   "source": [
    "df.iloc[0:3,:]"
   ]
  },
  {
   "cell_type": "markdown",
   "metadata": {
    "colab_type": "text",
    "id": "s9MJp0A1DkLM"
   },
   "source": [
    "5. Cambia el nombre de las columnas por:\n",
    "\n",
    "\n",
    "*   Animal\n",
    "*   Edad\n",
    "*   Visitas\n",
    "*   Prioridad\n",
    "\n"
   ]
  },
  {
   "cell_type": "code",
   "execution_count": 44,
   "metadata": {
    "colab": {},
    "colab_type": "code",
    "id": "XWJgv7ZUDkW3"
   },
   "outputs": [
    {
     "data": {
      "text/html": [
       "<div>\n",
       "<style scoped>\n",
       "    .dataframe tbody tr th:only-of-type {\n",
       "        vertical-align: middle;\n",
       "    }\n",
       "\n",
       "    .dataframe tbody tr th {\n",
       "        vertical-align: top;\n",
       "    }\n",
       "\n",
       "    .dataframe thead th {\n",
       "        text-align: right;\n",
       "    }\n",
       "</style>\n",
       "<table border=\"1\" class=\"dataframe\">\n",
       "  <thead>\n",
       "    <tr style=\"text-align: right;\">\n",
       "      <th></th>\n",
       "      <th>Animal</th>\n",
       "      <th>Edad</th>\n",
       "      <th>Visitas</th>\n",
       "      <th>Prioridad</th>\n",
       "    </tr>\n",
       "  </thead>\n",
       "  <tbody>\n",
       "    <tr>\n",
       "      <td>a</td>\n",
       "      <td>cat</td>\n",
       "      <td>2.5</td>\n",
       "      <td>1</td>\n",
       "      <td>yes</td>\n",
       "    </tr>\n",
       "    <tr>\n",
       "      <td>b</td>\n",
       "      <td>cat</td>\n",
       "      <td>3.0</td>\n",
       "      <td>3</td>\n",
       "      <td>yes</td>\n",
       "    </tr>\n",
       "    <tr>\n",
       "      <td>c</td>\n",
       "      <td>snake</td>\n",
       "      <td>0.5</td>\n",
       "      <td>2</td>\n",
       "      <td>no</td>\n",
       "    </tr>\n",
       "    <tr>\n",
       "      <td>d</td>\n",
       "      <td>dog</td>\n",
       "      <td>NaN</td>\n",
       "      <td>3</td>\n",
       "      <td>yes</td>\n",
       "    </tr>\n",
       "    <tr>\n",
       "      <td>e</td>\n",
       "      <td>dog</td>\n",
       "      <td>5.0</td>\n",
       "      <td>2</td>\n",
       "      <td>no</td>\n",
       "    </tr>\n",
       "    <tr>\n",
       "      <td>f</td>\n",
       "      <td>cat</td>\n",
       "      <td>2.0</td>\n",
       "      <td>3</td>\n",
       "      <td>no</td>\n",
       "    </tr>\n",
       "    <tr>\n",
       "      <td>g</td>\n",
       "      <td>snake</td>\n",
       "      <td>4.5</td>\n",
       "      <td>1</td>\n",
       "      <td>no</td>\n",
       "    </tr>\n",
       "    <tr>\n",
       "      <td>h</td>\n",
       "      <td>cat</td>\n",
       "      <td>NaN</td>\n",
       "      <td>1</td>\n",
       "      <td>yes</td>\n",
       "    </tr>\n",
       "    <tr>\n",
       "      <td>i</td>\n",
       "      <td>dog</td>\n",
       "      <td>7.0</td>\n",
       "      <td>2</td>\n",
       "      <td>no</td>\n",
       "    </tr>\n",
       "    <tr>\n",
       "      <td>j</td>\n",
       "      <td>dog</td>\n",
       "      <td>3.0</td>\n",
       "      <td>1</td>\n",
       "      <td>no</td>\n",
       "    </tr>\n",
       "  </tbody>\n",
       "</table>\n",
       "</div>"
      ],
      "text/plain": [
       "  Animal  Edad  Visitas Prioridad\n",
       "a    cat   2.5        1       yes\n",
       "b    cat   3.0        3       yes\n",
       "c  snake   0.5        2        no\n",
       "d    dog   NaN        3       yes\n",
       "e    dog   5.0        2        no\n",
       "f    cat   2.0        3        no\n",
       "g  snake   4.5        1        no\n",
       "h    cat   NaN        1       yes\n",
       "i    dog   7.0        2        no\n",
       "j    dog   3.0        1        no"
      ]
     },
     "execution_count": 44,
     "metadata": {},
     "output_type": "execute_result"
    }
   ],
   "source": [
    "col_name = {'animal':'Animal','age':'Edad','visits':'Visitas','priority':'Prioridad'}\n",
    "df.columns = df.columns.map(col_name)\n",
    "df"
   ]
  },
  {
   "cell_type": "markdown",
   "metadata": {
    "colab_type": "text",
    "id": "XWHtY3KRDkff"
   },
   "source": [
    "6. Muestra solo la columna \"animal\" and \"age\". ¿Esto es posible? Si no es posible, ¿qué debería ser?"
   ]
  },
  {
   "cell_type": "code",
   "execution_count": 46,
   "metadata": {
    "colab": {},
    "colab_type": "code",
    "id": "1ysdq3HZDkmn"
   },
   "outputs": [
    {
     "data": {
      "text/html": [
       "<div>\n",
       "<style scoped>\n",
       "    .dataframe tbody tr th:only-of-type {\n",
       "        vertical-align: middle;\n",
       "    }\n",
       "\n",
       "    .dataframe tbody tr th {\n",
       "        vertical-align: top;\n",
       "    }\n",
       "\n",
       "    .dataframe thead th {\n",
       "        text-align: right;\n",
       "    }\n",
       "</style>\n",
       "<table border=\"1\" class=\"dataframe\">\n",
       "  <thead>\n",
       "    <tr style=\"text-align: right;\">\n",
       "      <th></th>\n",
       "      <th>Animal</th>\n",
       "      <th>Edad</th>\n",
       "    </tr>\n",
       "  </thead>\n",
       "  <tbody>\n",
       "    <tr>\n",
       "      <td>a</td>\n",
       "      <td>cat</td>\n",
       "      <td>2.5</td>\n",
       "    </tr>\n",
       "    <tr>\n",
       "      <td>b</td>\n",
       "      <td>cat</td>\n",
       "      <td>3.0</td>\n",
       "    </tr>\n",
       "    <tr>\n",
       "      <td>c</td>\n",
       "      <td>snake</td>\n",
       "      <td>0.5</td>\n",
       "    </tr>\n",
       "    <tr>\n",
       "      <td>d</td>\n",
       "      <td>dog</td>\n",
       "      <td>NaN</td>\n",
       "    </tr>\n",
       "    <tr>\n",
       "      <td>e</td>\n",
       "      <td>dog</td>\n",
       "      <td>5.0</td>\n",
       "    </tr>\n",
       "    <tr>\n",
       "      <td>f</td>\n",
       "      <td>cat</td>\n",
       "      <td>2.0</td>\n",
       "    </tr>\n",
       "    <tr>\n",
       "      <td>g</td>\n",
       "      <td>snake</td>\n",
       "      <td>4.5</td>\n",
       "    </tr>\n",
       "    <tr>\n",
       "      <td>h</td>\n",
       "      <td>cat</td>\n",
       "      <td>NaN</td>\n",
       "    </tr>\n",
       "    <tr>\n",
       "      <td>i</td>\n",
       "      <td>dog</td>\n",
       "      <td>7.0</td>\n",
       "    </tr>\n",
       "    <tr>\n",
       "      <td>j</td>\n",
       "      <td>dog</td>\n",
       "      <td>3.0</td>\n",
       "    </tr>\n",
       "  </tbody>\n",
       "</table>\n",
       "</div>"
      ],
      "text/plain": [
       "  Animal  Edad\n",
       "a    cat   2.5\n",
       "b    cat   3.0\n",
       "c  snake   0.5\n",
       "d    dog   NaN\n",
       "e    dog   5.0\n",
       "f    cat   2.0\n",
       "g  snake   4.5\n",
       "h    cat   NaN\n",
       "i    dog   7.0\n",
       "j    dog   3.0"
      ]
     },
     "execution_count": 46,
     "metadata": {},
     "output_type": "execute_result"
    }
   ],
   "source": [
    "df[['Animal','Edad']]"
   ]
  },
  {
   "cell_type": "code",
   "execution_count": null,
   "metadata": {},
   "outputs": [],
   "source": []
  },
  {
   "cell_type": "markdown",
   "metadata": {
    "colab_type": "text",
    "id": "FozTvSf8Dkvk"
   },
   "source": [
    "7. Selecciona solo las filas donde el número de visitas sea mayor que 3."
   ]
  },
  {
   "cell_type": "code",
   "execution_count": 119,
   "metadata": {
    "colab": {},
    "colab_type": "code",
    "id": "RUfabyzfDk2m"
   },
   "outputs": [
    {
     "data": {
      "text/html": [
       "<div>\n",
       "<style scoped>\n",
       "    .dataframe tbody tr th:only-of-type {\n",
       "        vertical-align: middle;\n",
       "    }\n",
       "\n",
       "    .dataframe tbody tr th {\n",
       "        vertical-align: top;\n",
       "    }\n",
       "\n",
       "    .dataframe thead th {\n",
       "        text-align: right;\n",
       "    }\n",
       "</style>\n",
       "<table border=\"1\" class=\"dataframe\">\n",
       "  <thead>\n",
       "    <tr style=\"text-align: right;\">\n",
       "      <th></th>\n",
       "      <th>Animal</th>\n",
       "      <th>Edad</th>\n",
       "      <th>Visitas</th>\n",
       "      <th>Prioridad</th>\n",
       "      <th>COUNTER</th>\n",
       "    </tr>\n",
       "  </thead>\n",
       "  <tbody>\n",
       "  </tbody>\n",
       "</table>\n",
       "</div>"
      ],
      "text/plain": [
       "Empty DataFrame\n",
       "Columns: [Animal, Edad, Visitas, Prioridad, COUNTER]\n",
       "Index: []"
      ]
     },
     "execution_count": 119,
     "metadata": {},
     "output_type": "execute_result"
    }
   ],
   "source": [
    "df[df['Visitas'] > 3]"
   ]
  },
  {
   "cell_type": "code",
   "execution_count": null,
   "metadata": {},
   "outputs": [],
   "source": []
  },
  {
   "cell_type": "markdown",
   "metadata": {
    "colab_type": "text",
    "id": "OqQFY4lWDk_V"
   },
   "source": [
    "8. ¿Cuáles son las filas donde la edad es NaN?"
   ]
  },
  {
   "cell_type": "code",
   "execution_count": 56,
   "metadata": {
    "colab": {},
    "colab_type": "code",
    "id": "aFj3aO35DlIN"
   },
   "outputs": [
    {
     "name": "stdout",
     "output_type": "stream",
     "text": [
      "  Animal  Edad  Visitas Prioridad\n",
      "d    dog   NaN        3       yes\n",
      "h    cat   NaN        1       yes\n"
     ]
    }
   ],
   "source": [
    "res=df['Edad'].isnull()\n",
    "print(df[res])"
   ]
  },
  {
   "cell_type": "markdown",
   "metadata": {
    "colab_type": "text",
    "id": "mpWf6A3rDlQp"
   },
   "source": [
    "9. ¿Qué animales tienen una edad entre 2 y 4 años?"
   ]
  },
  {
   "cell_type": "code",
   "execution_count": 55,
   "metadata": {
    "colab": {},
    "colab_type": "code",
    "id": "Uoc8qyOHDlXh"
   },
   "outputs": [
    {
     "name": "stdout",
     "output_type": "stream",
     "text": [
      "  Animal  Edad  Visitas Prioridad\n",
      "a    cat   2.5        1       yes\n",
      "b    cat   3.0        3       yes\n",
      "f    cat   2.0        3        no\n",
      "j    dog   3.0        1        no\n"
     ]
    }
   ],
   "source": [
    "cond=(df['Edad'] >=2) & (df['Edad'] <= 4)\n",
    "print(df[cond])"
   ]
  },
  {
   "cell_type": "markdown",
   "metadata": {
    "colab_type": "text",
    "id": "tnrCUXWcDlgU"
   },
   "source": [
    "10. ¿Cuál es el total de todas las visitas?"
   ]
  },
  {
   "cell_type": "code",
   "execution_count": 60,
   "metadata": {
    "colab": {},
    "colab_type": "code",
    "id": "7--lmUybDloe"
   },
   "outputs": [
    {
     "name": "stdout",
     "output_type": "stream",
     "text": [
      "19\n"
     ]
    }
   ],
   "source": [
    "suma=df['Visitas'].sum()\n",
    "print(suma)"
   ]
  },
  {
   "cell_type": "markdown",
   "metadata": {
    "colab_type": "text",
    "id": "MY5iS4rRDlxw"
   },
   "source": [
    "12. Tenemos diferentes animales, ¿cuál es el número total de cada tipo de animal?"
   ]
  },
  {
   "cell_type": "code",
   "execution_count": 66,
   "metadata": {
    "colab": {},
    "colab_type": "code",
    "id": "MlVCJ6kVDl7f"
   },
   "outputs": [
    {
     "name": "stdout",
     "output_type": "stream",
     "text": [
      "Animal\n",
      "cat      4\n",
      "dog      4\n",
      "snake    2\n",
      "Name: COUNTER, dtype: int64\n"
     ]
    }
   ],
   "source": [
    "df['COUNTER'] =1       #initially, set that counter to 1.\n",
    "group_data = df.groupby(['Animal'])['COUNTER'].sum() #sum function\n",
    "print(group_data)"
   ]
  },
  {
   "cell_type": "markdown",
   "metadata": {
    "colab_type": "text",
    "id": "VoCgnLRqDmDr"
   },
   "source": [
    "13. Cambia los valores de la columna Prioridad por valores booleanos, es decir:\n",
    "'yes' => True \n",
    "'no' => False"
   ]
  },
  {
   "cell_type": "code",
   "execution_count": 70,
   "metadata": {
    "colab": {},
    "colab_type": "code",
    "id": "HRC1emFMDmNv"
   },
   "outputs": [
    {
     "name": "stdout",
     "output_type": "stream",
     "text": [
      "  Animal  Edad  Visitas Prioridad  COUNTER\n",
      "a    cat   2.5        1      True        1\n",
      "b    cat   3.0        3      True        1\n",
      "c  snake   0.5        2     False        1\n",
      "d    dog   NaN        3      True        1\n",
      "e    dog   5.0        2     False        1\n",
      "f    cat   2.0        3     False        1\n",
      "g  snake   4.5        1     False        1\n",
      "h    cat   NaN        1      True        1\n",
      "i    dog   7.0        2     False        1\n",
      "j    dog   3.0        1     False        1\n"
     ]
    }
   ],
   "source": [
    "#df[\"column1\"].replace({\"a\": \"x\", \"b\": \"y\"}, inplace=True)\n",
    "#print(df)\n",
    "\n",
    "df['Prioridad'].replace({\"yes\":True,\"no\":False}, inplace=True)\n",
    "print(df)"
   ]
  },
  {
   "cell_type": "markdown",
   "metadata": {
    "colab_type": "text",
    "id": "qZOd6ptKDmcl"
   },
   "source": [
    "14. Ordena el DataFrame por la Edad en orden descendiente y después por la columna Visitas en orden ascendente."
   ]
  },
  {
   "cell_type": "code",
   "execution_count": 71,
   "metadata": {
    "colab": {},
    "colab_type": "code",
    "id": "VdcndP_7Dmj3"
   },
   "outputs": [
    {
     "name": "stdout",
     "output_type": "stream",
     "text": [
      "  Animal  Edad  Visitas Prioridad  COUNTER\n",
      "i    dog   7.0        2     False        1\n",
      "e    dog   5.0        2     False        1\n",
      "g  snake   4.5        1     False        1\n",
      "j    dog   3.0        1     False        1\n",
      "b    cat   3.0        3      True        1\n",
      "a    cat   2.5        1      True        1\n",
      "f    cat   2.0        3     False        1\n",
      "c  snake   0.5        2     False        1\n",
      "h    cat   NaN        1      True        1\n",
      "d    dog   NaN        3      True        1\n"
     ]
    }
   ],
   "source": [
    "df = df.sort_values([\"Edad\", \"Visitas\"], ascending = (False, True))\n",
    "print(df)"
   ]
  },
  {
   "cell_type": "markdown",
   "metadata": {
    "colab_type": "text",
    "id": "epccus9FDmuO"
   },
   "source": [
    "15. Para cada tipo de animal y cada número de visitas encuentra la edad promedio. \n",
    "(Pista: Si haz utilizado tablas pivotes, cada fila es un animal, cada columna es el número de visitas y los valores son la media de la edad)."
   ]
  },
  {
   "cell_type": "code",
   "execution_count": 77,
   "metadata": {
    "colab": {},
    "colab_type": "code",
    "id": "U7acJZ6BDm9k"
   },
   "outputs": [
    {
     "name": "stdout",
     "output_type": "stream",
     "text": [
      "        Edad  Visitas\n",
      "Animal               \n",
      "cat      2.5      2.0\n",
      "dog      5.0      2.0\n",
      "snake    2.5      1.5\n"
     ]
    }
   ],
   "source": [
    "\n",
    "proms = df.groupby(['Animal'])['Edad','Visitas'].mean() \n",
    "print(proms)"
   ]
  },
  {
   "cell_type": "markdown",
   "metadata": {
    "colab_type": "text",
    "id": "c2yGANNNPmjL"
   },
   "source": [
    "# 3. Retos (opcional)\n",
    "\n",
    "- Random Walk\n",
    "\n",
    "- Game of Life\n",
    "\n",
    "- Imagenes\n",
    "\n",
    "- Texto"
   ]
  }
 ],
 "metadata": {
  "colab": {
   "collapsed_sections": [
    "Pbp6nOk8TpYL",
    "MQTzp5SALqGf",
    "5FHaQq39Ufng"
   ],
   "name": "Copia de Sesión 3 - Práctica de Datos.ipynb",
   "provenance": [
    {
     "file_id": "1ljAmKIoXK8UL3l3FTxBgQpM4hDVf0Irv",
     "timestamp": 1556666988185
    }
   ],
   "version": "0.3.2"
  },
  "kernelspec": {
   "display_name": "Python 3",
   "language": "python",
   "name": "python3"
  },
  "language_info": {
   "codemirror_mode": {
    "name": "ipython",
    "version": 3
   },
   "file_extension": ".py",
   "mimetype": "text/x-python",
   "name": "python",
   "nbconvert_exporter": "python",
   "pygments_lexer": "ipython3",
   "version": "3.7.4"
  }
 },
 "nbformat": 4,
 "nbformat_minor": 1
}
