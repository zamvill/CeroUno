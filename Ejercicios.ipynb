{
 "cells": [
  {
   "cell_type": "markdown",
   "metadata": {},
   "source": [
    "# Ejercicios de la primera semana\n",
    "\n",
    "A continuación se muestran algunos ejercicios sobre los temas de la semana: \n",
    "\n",
    "\n",
    "#### 1. Calcula el número $\\pi$ usando la fórmula\n",
    "\n",
    "$$\\pi=2\\prod_{i=1}^{\\infty}\\frac{4 i^2 }{4i^2-1 }$$\n",
    "\n",
    "\n",
    "\n"
   ]
  },
  {
   "cell_type": "code",
   "execution_count": 230,
   "metadata": {},
   "outputs": [
    {
     "name": "stdout",
     "output_type": "stream",
     "text": [
      "Cuantas veces?: 250\n",
      "3.1384463438360224\n"
     ]
    }
   ],
   "source": [
    "pi_aprox = 1\n",
    "\n",
    "n = int(input(\"Cuantas veces?: \"))\n",
    "\n",
    "for i in range(1, n):    \n",
    "    pi_aprox = pi_aprox * (4 * i ** 2 / (4 * i ** 2 - 1))\n",
    "\n",
    "pi_aprox = pi_aprox * 2\n",
    "\n",
    "print(pi_aprox)\n",
    "\n"
   ]
  },
  {
   "cell_type": "markdown",
   "metadata": {},
   "source": [
    "#### 2. Calcula las primeras 10 potencias de 2 ($2^n$). Guarda los valores para cada uno de los exponentes y regresa la suma como valor.\n"
   ]
  },
  {
   "cell_type": "code",
   "execution_count": 22,
   "metadata": {},
   "outputs": [
    {
     "name": "stdout",
     "output_type": "stream",
     "text": [
      "[1, 2, 4, 8, 16, 32, 64, 128, 256, 512]\n",
      "1023\n"
     ]
    }
   ],
   "source": [
    "lista = []\n",
    "val=1\n",
    "sum=1\n",
    "lista.append(val)\n",
    "for i in range(1,10):\n",
    "    val=val*2\n",
    "    sum=sum+val    \n",
    "    lista.append(val)\n",
    "print(lista)    \n",
    "print(sum)"
   ]
  },
  {
   "cell_type": "markdown",
   "metadata": {},
   "source": [
    "#### 3. Obtener los primeros 10 numeros pares "
   ]
  },
  {
   "cell_type": "code",
   "execution_count": 2,
   "metadata": {},
   "outputs": [
    {
     "name": "stdout",
     "output_type": "stream",
     "text": [
      "[2, 4, 6, 8, 10, 12, 14, 16, 18, 20]\n"
     ]
    }
   ],
   "source": [
    "lista=[2, 4, 6, 8, 10, 12, 14, 16, 18, 20, 22, 24, 26, 28, 30, 32, 34, 36, 38]\n",
    "listapares=[]\n",
    "i=0\n",
    "while i <= 9:\n",
    "    if lista[i] % 2 == 0:\n",
    "        listapares.append(lista[i])\n",
    "    i=i+1\n",
    "print(listapares)"
   ]
  },
  {
   "cell_type": "markdown",
   "metadata": {},
   "source": [
    "\n",
    "#### 4. Escriba una función que nos permita calcular la suma de los cuadrados de dos números\n"
   ]
  },
  {
   "cell_type": "code",
   "execution_count": 7,
   "metadata": {},
   "outputs": [
    {
     "name": "stdout",
     "output_type": "stream",
     "text": [
      "Inserta un numero 1: 5\n",
      "Inserta un numero 2: 5\n",
      "50\n"
     ]
    }
   ],
   "source": [
    "def Cal2CuadradosSum(a,b):\n",
    "    Cuad1=(a**2)\n",
    "    Cuad2=(b**2)\n",
    "    sum=Cuad1+Cuad2\n",
    "    return sum\n",
    "\n",
    "x = int(input(\"Inserta un numero 1: \"))\n",
    "y = int(input(\"Inserta un numero 2: \"))\n",
    "\n",
    "print(Cal2CuadradosSum(x,y))"
   ]
  },
  {
   "cell_type": "markdown",
   "metadata": {},
   "source": [
    "#### 5. Escriba una función que calcule, guarde en una lista y muestre los elementos de la secuencia de Fibonacci"
   ]
  },
  {
   "cell_type": "code",
   "execution_count": 17,
   "metadata": {},
   "outputs": [
    {
     "name": "stdout",
     "output_type": "stream",
     "text": [
      "Cuantos elementos deseas: 10\n",
      "1\n",
      "2\n",
      "3\n",
      "5\n",
      "8\n",
      "13\n",
      "21\n",
      "34\n",
      "55\n",
      "89\n"
     ]
    }
   ],
   "source": [
    "x = int(input(\"Cuantos elementos deseas: \"))\n",
    "sum=0\n",
    "p=1\n",
    "ant=0\n",
    "for i in range(x):\n",
    "    sum= p+ant\n",
    "    ant=p\n",
    "    p=sum\n",
    "    print(p)"
   ]
  },
  {
   "cell_type": "markdown",
   "metadata": {},
   "source": [
    "6. Crear una función que reciba un parámetro númerico e imprima el nombre de una fruta:  *Naranjas* si el parámetro es igual a 0, *Manzanas* si el parámetro es igual a 1 y *Peras* si el paráemtro es igual a 2 "
   ]
  },
  {
   "cell_type": "code",
   "execution_count": 26,
   "metadata": {},
   "outputs": [
    {
     "name": "stdout",
     "output_type": "stream",
     "text": [
      "Capture un numero entero menor a 3: 19\n",
      "numero desconocido\n"
     ]
    }
   ],
   "source": [
    "def fruta(x):\n",
    "    if x == 0:\n",
    "        f=\"Naranjas\"\n",
    "    elif x == 1:\n",
    "        f=\"Manzanas\"\n",
    "    elif x == 2:\n",
    "        f=\"Peras\"\n",
    "    else:\n",
    "        f=\"numero desconocido\"\n",
    "    return f\n",
    "\n",
    "n = int(input(\"Capture un numero entero menor a 3: \"))\n",
    "print(fruta(n))\n"
   ]
  },
  {
   "cell_type": "markdown",
   "metadata": {},
   "source": [
    "7. Crear una función la función error: imprima un mensaje que notifique al usuario si existe un error\n"
   ]
  },
  {
   "cell_type": "code",
   "execution_count": 28,
   "metadata": {},
   "outputs": [
    {
     "name": "stdout",
     "output_type": "stream",
     "text": [
      "Cometiste un error\n"
     ]
    }
   ],
   "source": [
    "def error():\n",
    "    m=\"Cometiste un error\"\n",
    "    return m\n",
    "\n",
    "if -5 < 0:\n",
    "    print(error())\n",
    "    "
   ]
  },
  {
   "cell_type": "markdown",
   "metadata": {},
   "source": [
    "#### 8. Definamos la función matemática del valor absoluto de un número:  Si el número de entrada es negativo, devolver el valor e imprimir un mensaje semejante a \"El valor absoluto es:\". Si no, devolver el valor del número introducido e imprimir el mismo mensaje\n",
    "   "
   ]
  },
  {
   "cell_type": "code",
   "execution_count": 32,
   "metadata": {},
   "outputs": [
    {
     "name": "stdout",
     "output_type": "stream",
     "text": [
      "Numero a convertir a absoluto: -8\n",
      "El valor absoluto es: 8\n"
     ]
    }
   ],
   "source": [
    "def absoluto(n):\n",
    "    if n < 0:\n",
    "        n=n*-1\n",
    "        m=\"El valor absoluto es: \"+str(n)\n",
    "    else:\n",
    "        m=\"El valor absoluto es: \"+str(n)\n",
    "    return m\n",
    "\n",
    "x = int(input(\"Numero a convertir a absoluto: \"))\n",
    "print(absoluto(x))"
   ]
  },
  {
   "cell_type": "code",
   "execution_count": 29,
   "metadata": {},
   "outputs": [
    {
     "data": {
      "text/plain": [
       "17"
      ]
     },
     "execution_count": 29,
     "metadata": {},
     "output_type": "execute_result"
    }
   ],
   "source": []
  },
  {
   "cell_type": "markdown",
   "metadata": {},
   "source": [
    "#### 9.Defininir una función que realice el cambio del valor de dos variables: el valor de la primera se otorga a la segunda y viceversa. \n",
    "\n",
    "\n"
   ]
  },
  {
   "cell_type": "code",
   "execution_count": 39,
   "metadata": {},
   "outputs": [
    {
     "name": "stdout",
     "output_type": "stream",
     "text": [
      "Inserta el valor de x: 89\n",
      "Inserta el valor de y: 2\n",
      "{'x': 2, 'y': 89}\n"
     ]
    }
   ],
   "source": [
    "def cambiavalor(x,y):\n",
    "    temp=x\n",
    "    x=y\n",
    "    y=temp\n",
    "    \n",
    "    vals={\"x\":x,\"y\":y}\n",
    "    \n",
    "    return vals\n",
    "\n",
    "x = int(input(\"Inserta el valor de x: \"))\n",
    "y = int(input(\"Inserta el valor de y: \"))\n",
    "\n",
    "z=cambiavalor(x,y)\n",
    "print(z)"
   ]
  },
  {
   "cell_type": "markdown",
   "metadata": {},
   "source": [
    "#### 10. Cree un programa que le pida al usuario que ingrese su nombre y su edad. Imprima un mensaje dirigido a ellos que les diga el año en que cumplirán 100 años."
   ]
  },
  {
   "cell_type": "code",
   "execution_count": 40,
   "metadata": {},
   "outputs": [
    {
     "name": "stdout",
     "output_type": "stream",
     "text": [
      "Cual es su nombre: alex\n",
      "Cual es su edad: 42\n",
      "Estimado alex usted cumplira 100 años en el año 2078\n"
     ]
    }
   ],
   "source": [
    "n = input(\"Cual es su nombre: \")\n",
    "e = int(input(\"Cual es su edad: \"))\n",
    "\n",
    "import datetime\n",
    "anioactual = datetime.datetime.today().year\n",
    "\n",
    "anio100= (anioactual-e)+100\n",
    "\n",
    "print(\"Estimado \"+n+\" usted cumplira 100 años en el año \"+ str(anio100))\n",
    "\n"
   ]
  },
  {
   "cell_type": "markdown",
   "metadata": {},
   "source": [
    "#### 11. Pregunte al usuario por un número. Dependiendo de si el número es par o impar, imprima un mensaje apropiado para el usuario.\n",
    "\n"
   ]
  },
  {
   "cell_type": "code",
   "execution_count": 43,
   "metadata": {
    "scrolled": true
   },
   "outputs": [
    {
     "name": "stdout",
     "output_type": "stream",
     "text": [
      "Capture un numero: 24\n",
      "Su numero es par\n"
     ]
    }
   ],
   "source": [
    "n = int(input(\"Capture un numero: \"))\n",
    "\n",
    "if n%2 == 0:\n",
    "    print(\"Su numero es par\")\n",
    "else:\n",
    "    print(\"Su numero es impar\")"
   ]
  },
  {
   "cell_type": "markdown",
   "metadata": {},
   "source": [
    "#### 12. Escriba una función que reciba una lista  como parámetro y devuelva una nueva lista que contenga todos los elementos de la primera lista menos todos los duplicados.\n"
   ]
  },
  {
   "cell_type": "code",
   "execution_count": 46,
   "metadata": {},
   "outputs": [
    {
     "name": "stdout",
     "output_type": "stream",
     "text": [
      "{1, 2, 4, 5, 6, 8}\n"
     ]
    }
   ],
   "source": [
    "def delReps(lista):\n",
    "    return set(lista)\n",
    "\n",
    "lista1={1,2,4,5,5,5,6,8,2,1}\n",
    "print(delReps(lista1))\n",
    "\n"
   ]
  },
  {
   "cell_type": "markdown",
   "metadata": {},
   "source": [
    "#### 13. Haz un juego de dos jugadores de piedra, papel y tijeras, Dada una función de dos entradas, compáralas, imprime un mensaje de felicitaciones al ganador."
   ]
  },
  {
   "cell_type": "code",
   "execution_count": 72,
   "metadata": {},
   "outputs": [
    {
     "name": "stdout",
     "output_type": "stream",
     "text": [
      "Seleccione Piedra, Papel o Tijera: Tijera\n",
      "Seleccione Piedra, Papel o Tijera: Papel\n",
      "Usuario 1 ganaste\n"
     ]
    }
   ],
   "source": [
    "#--- Funcion Piedra, Papel o Tijera\n",
    "def ppj(u1,u2):\n",
    " \n",
    "    if u1 == u2:\n",
    "        m=\"Empate\"\n",
    "\n",
    "    if (u1 == 'Piedra'):\n",
    "        if (u2 == 'Papel'):\n",
    "            m=\"Usuario 2 ganaste\"\n",
    "        elif (u2 == 'Tijera'):\n",
    "            m=\"Usuario 1 ganaste\"\n",
    "\n",
    "    if (u1 == 'Papel'):\n",
    "        if (u2 == 'Tijera'):\n",
    "            m=\"Usuario 2 ganaste\"\n",
    "        elif (u2 == 'Piedra'):\n",
    "            m=\"Usuario 1 ganaste\"\n",
    "\n",
    "    if (u1 == 'Tijera'):\n",
    "        if (u2 == 'Piedra'):\n",
    "            m=\"Usuario 2 ganaste\"\n",
    "        elif (u2 == 'Papel'):\n",
    "            m=\"Usuario 1 ganaste\"\n",
    "            \n",
    "    return m\n",
    "#----------------------------------------------\n",
    "Opciones = ['Piedra', 'Tijera','Papel']    \n",
    "    \n",
    "usuario1 = input(\"Seleccione Piedra, Papel o Tijera: \")\n",
    "usuario2 = input(\"Seleccione Piedra, Papel o Tijera: \")        \n",
    "\n",
    "if usuario1 not in Opciones or usuario2 not in Opciones:\n",
    "   print(\"Seleccione una opción válida\") \n",
    "else:\n",
    "   print(ppj(usuario1,usuario2))\n"
   ]
  },
  {
   "cell_type": "markdown",
   "metadata": {},
   "source": [
    "14. Similar al ejercicio pasado, haz un juego de piedra papel y tijeras en una función que: pregunte a los usuarios sobre sus opciones, haga las comparaciones, entregue el resultado. Finalmente pregunte si quieren seguir jugnado y si sí, comience el juego de nuevo. "
   ]
  },
  {
   "cell_type": "code",
   "execution_count": 79,
   "metadata": {},
   "outputs": [
    {
     "name": "stdout",
     "output_type": "stream",
     "text": [
      "Seleccione Piedra, Papel o Tijera: Papel\n",
      "Seleccione Piedra, Papel o Tijera: Papel\n",
      "Empate\n",
      "Quiere seguir jugando? (si/no): si\n",
      "Seleccione Piedra, Papel o Tijera: Papel\n",
      "Seleccione Piedra, Papel o Tijera: Tijera\n",
      "Usuario 2 ganaste\n",
      "Quiere seguir jugando? (si/no): no\n",
      "Se terminó el juego\n"
     ]
    }
   ],
   "source": [
    "#--- Funcion Piedra, Papel o Tijera\n",
    "def ppj():\n",
    "    \n",
    "    Opciones = ['Piedra', 'Tijera','Papel']    \n",
    "\n",
    "    u1 = input(\"Seleccione Piedra, Papel o Tijera: \")\n",
    "    u2 = input(\"Seleccione Piedra, Papel o Tijera: \")        \n",
    "\n",
    "    if usuario1 not in Opciones or usuario2 not in Opciones:\n",
    "       print(\"Seleccione una opción válida\")   \n",
    " \n",
    "    if u1 == u2:\n",
    "        m=\"Empate\"\n",
    "\n",
    "    if (u1 == 'Piedra'):\n",
    "        if (u2 == 'Papel'):\n",
    "            m=\"Usuario 2 ganaste\"\n",
    "        elif (u2 == 'Tijera'):\n",
    "            m=\"Usuario 1 ganaste\"\n",
    "\n",
    "    if (u1 == 'Papel'):\n",
    "        if (u2 == 'Tijera'):\n",
    "            m=\"Usuario 2 ganaste\"\n",
    "        elif (u2 == 'Piedra'):\n",
    "            m=\"Usuario 1 ganaste\"\n",
    "\n",
    "    if (u1 == 'Tijera'):\n",
    "        if (u2 == 'Piedra'):\n",
    "            m=\"Usuario 2 ganaste\"\n",
    "        elif (u2 == 'Papel'):\n",
    "            m=\"Usuario 1 ganaste\"\n",
    "            \n",
    "    return m\n",
    "#----------------------------------------------\n",
    "\n",
    "resp=False\n",
    "while resp == False:\n",
    "    print(ppj())\n",
    "    preg=input(\"Quiere seguir jugando? (si/no): \")\n",
    "    if preg == 'no':\n",
    "        print(\"Se terminó el juego\")\n",
    "        resp=True\n",
    "    \n",
    "\n"
   ]
  },
  {
   "cell_type": "markdown",
   "metadata": {},
   "source": [
    "#### 15. Dada una oración, realice las operaciones necesarias para invertir el orden de las palabras "
   ]
  },
  {
   "cell_type": "code",
   "execution_count": 90,
   "metadata": {},
   "outputs": [
    {
     "name": "stdout",
     "output_type": "stream",
     "text": [
      "onUoreC aloH\n",
      "onUoreC aloH\n"
     ]
    }
   ],
   "source": [
    "o=\"Hola CeroUno\"\n",
    "\n",
    "long=len(o)\n",
    "print(o[long::-1])\n",
    "\n",
    "str=\"\"\n",
    "while long > 0:\n",
    "    str=str+o[long-1]\n",
    "    long=long-1\n",
    "print(str)\n"
   ]
  },
  {
   "cell_type": "markdown",
   "metadata": {},
   "source": [
    "#### 16. Crea un generador de contraseñas, donde la longitud sea un parámetro de entrada para el usuario. Usa letras mayúsculas, minúsculas y números. "
   ]
  },
  {
   "cell_type": "code",
   "execution_count": 106,
   "metadata": {},
   "outputs": [
    {
     "name": "stdout",
     "output_type": "stream",
     "text": [
      "De que longitud desea su contraseña aleatoria: 10\n",
      "LS]u\\,wn|I\n"
     ]
    }
   ],
   "source": [
    "import random\n",
    "\n",
    "l = int(input(\"De que longitud desea su contraseña aleatoria: \"))\n",
    "\n",
    "ascii_letters = 'abcdefghijklmnopqrstuvwxyzABCDEFGHIJKLMNOPQRSTUVWXYZ'\n",
    "punctuation = '!\"#$%&\\'()*+,-./:;<=>?@[\\\\]^_`{|}~'\n",
    "\n",
    "s=ascii_letters+punctuation\n",
    "long=len(s)\n",
    "password=\"\"\n",
    "i=0\n",
    "\n",
    "while i < l:\n",
    "    v=random.randrange(0, long-1)\n",
    "    password=password+s[v]\n",
    "    i=i+1\n",
    "\n",
    "#print(ascii_letters+punctuation)\n",
    "print(password)\n"
   ]
  },
  {
   "cell_type": "markdown",
   "metadata": {},
   "source": [
    "#### 17. Cree un archivo de texto (extensión .txt) con letras aleatorias (incluyendo espacios) con una extensión de 500 caracteres. "
   ]
  },
  {
   "cell_type": "code",
   "execution_count": 166,
   "metadata": {},
   "outputs": [
    {
     "name": "stdout",
     "output_type": "stream",
     "text": [
      "termina\n"
     ]
    }
   ],
   "source": [
    "import random\n",
    "\n",
    "ascii_letters = 'abcdefghijklmnopqrstuvwxyzABCDEFGHIJKLMNOPQRSTUVWXYZ'\n",
    "long=len(ascii_letters)\n",
    "i=0\n",
    "filestr=\"\"\n",
    "text_file = open(\"ejercicio17.txt\", \"wt\")\n",
    "j=1 #contador para salto de linea\n",
    "\n",
    "while i < 500:\n",
    "    v=random.randrange(0, long-1)    \n",
    "    text_file.write(ascii_letters[v]+' ')\n",
    "    if j == 50:  #cada 100 caracteres (letra y espacio), salto de linea\n",
    "        text_file.write(\"\\n\")\n",
    "        j=1\n",
    "    else:\n",
    "        j=j+1\n",
    "    i=i+2\n",
    "\n",
    "text_file.close()    \n",
    "\n",
    "print(\"termina\")\n",
    "\n",
    "    \n",
    "\n"
   ]
  },
  {
   "cell_type": "markdown",
   "metadata": {},
   "source": [
    "#### 18. Lee el archivo pasado e invierte todo el texto (hola -> aloh) y guardalo con un nombre diferente. "
   ]
  },
  {
   "cell_type": "code",
   "execution_count": 176,
   "metadata": {},
   "outputs": [
    {
     "name": "stdout",
     "output_type": "stream",
     "text": [
      "\n"
     ]
    }
   ],
   "source": [
    "f = open(\"ejercicio17.txt\", \"r\")\n",
    "text_file = open(\"ejercicio18.txt\", \"wt\")\n",
    "\n",
    "o=f.read()\n",
    "long=len(o)\n",
    "#print(o[long::-1])\n",
    "j=1 #contador para salto de linea\n",
    "\n",
    "while long > 0:\n",
    "    text_file.write(o[long-1])\n",
    "    long=long-1\n",
    "text_file.close()\n",
    "f.close()\n",
    "\n",
    "print(str)\n"
   ]
  },
  {
   "cell_type": "markdown",
   "metadata": {},
   "source": [
    "#### 19. Compara dos listas (pueden ser de diferentes tamaños. Construye dos listas: una con los elementos en común y otra con el resto de los elementos. \n"
   ]
  },
  {
   "cell_type": "code",
   "execution_count": 213,
   "metadata": {},
   "outputs": [
    {
     "name": "stdout",
     "output_type": "stream",
     "text": [
      "[23, 'cerouno', 6, 1]\n",
      "\n",
      "[34, 78, 90, 'hola', 77, 'abc', '123', 'saltillo', 'ABC', 123, 5]\n"
     ]
    }
   ],
   "source": [
    "l1 = [34,78,23,90,'hola','cerouno',77,'abc','123',6]\n",
    "l2 = [23,'cerouno',6,'saltillo','ABC',123,5]\n",
    "\n",
    "#lcomun = [23,'cerouno',6]\n",
    "#lresto = [34,78,90,'hola',77,'abc','123',saltillo,'ABC',123,5]\n",
    "\n",
    "\n",
    "lcomun=[]\n",
    "lresto=[]\n",
    "i=0\n",
    "    \n",
    "while i < len(l1):\n",
    "    if l1[i] in l2:\n",
    "        lcomun.append(l1[i])\n",
    "    else:\n",
    "        lresto.append(l1[i])    \n",
    "    i=i+1\n",
    "    \n",
    "i=0    \n",
    "while i < len(l2):\n",
    "    if l2[i] in l1:\n",
    "        if l2[i] not in lcomun:\n",
    "            lcomun.append(l2[i])\n",
    "    else:\n",
    "        if l2[i] not in lresto:\n",
    "            lresto.append(l2[i])    \n",
    "    i=i+1    \n",
    "    \n",
    "    \n",
    "print(lcomun)\n",
    "print()\n",
    "print(lresto)\n",
    "            \n",
    "            "
   ]
  },
  {
   "cell_type": "code",
   "execution_count": 179,
   "metadata": {},
   "outputs": [
    {
     "name": "stdout",
     "output_type": "stream",
     "text": [
      "78\n"
     ]
    }
   ],
   "source": []
  },
  {
   "cell_type": "code",
   "execution_count": null,
   "metadata": {},
   "outputs": [],
   "source": []
  }
 ],
 "metadata": {
  "kernelspec": {
   "display_name": "Python 3",
   "language": "python",
   "name": "python3"
  },
  "language_info": {
   "codemirror_mode": {
    "name": "ipython",
    "version": 3
   },
   "file_extension": ".py",
   "mimetype": "text/x-python",
   "name": "python",
   "nbconvert_exporter": "python",
   "pygments_lexer": "ipython3",
   "version": "3.7.4"
  }
 },
 "nbformat": 4,
 "nbformat_minor": 2
}
