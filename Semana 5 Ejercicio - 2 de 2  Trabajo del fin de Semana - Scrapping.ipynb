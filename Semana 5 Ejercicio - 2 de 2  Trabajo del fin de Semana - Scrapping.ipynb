{
 "cells": [
  {
   "cell_type": "code",
   "execution_count": 2,
   "metadata": {},
   "outputs": [
    {
     "name": "stdout",
     "output_type": "stream",
     "text": [
      "https://celulares.mercadolibre.com.mx/_Desde_51\n",
      "https://celulares.mercadolibre.com.mx/_Desde_101\n",
      "https://celulares.mercadolibre.com.mx/_Desde_151\n",
      "https://celulares.mercadolibre.com.mx/_Desde_201\n",
      "https://celulares.mercadolibre.com.mx/_Desde_251\n",
      "https://celulares.mercadolibre.com.mx/_Desde_301\n",
      "https://celulares.mercadolibre.com.mx/_Desde_351\n",
      "https://celulares.mercadolibre.com.mx/_Desde_401\n",
      "https://celulares.mercadolibre.com.mx/_Desde_451\n",
      "539 celulares recopilados\n"
     ]
    },
    {
     "data": {
      "text/plain": [
       "array([[<matplotlib.axes._subplots.AxesSubplot object at 0x000001B4813BCCC8>]],\n",
       "      dtype=object)"
      ]
     },
     "execution_count": 2,
     "metadata": {},
     "output_type": "execute_result"
    },
    {
     "data": {
      "image/png": "[encoded data removed]",
      "text/plain": [
       "<Figure size 432x288 with 1 Axes>"
      ]
     },
     "metadata": {
      "needs_background": "light"
     },
     "output_type": "display_data"
    }
   ],
   "source": [
    "import requests\n",
    "from bs4 import BeautifulSoup\n",
    "import pandas as pd\n",
    "import numpy as np\n",
    "\n",
    "\n",
    "# funcion que recibe el request URL en BS y regresa dataframe con los productos de la pagina\n",
    "def GetProducts(bsURL):\n",
    "    #se definen la listas en blanco\n",
    "    name=[]\n",
    "    priceroriginal=[]\n",
    "    pricerpreciodescuento=[]\n",
    "\n",
    "    # se busca resultado o lista de productos de la pagina y se guarda en variable\n",
    "    products= bsURL.find_all('li', class_='results-item')    \n",
    "    \n",
    " # Se recorre el objeto productos\n",
    "    for product in products:\n",
    "        #se obtiene el nombre del producto y se guarda en la lista\n",
    "        name.append(product.find('a',class_='item__info-title').get_text().strip())\n",
    "        # se checa si existe el precio original. si existe se guarda si no se inserta 0 (cero)\n",
    "        if product.find('del'):\n",
    "            priceroriginal.append(float(product.find('del').get_text().replace(',','').replace('$','').strip()))\n",
    "        else:\n",
    "            priceroriginal.append(0)\n",
    "        #Se obtiene el precio de descuento\n",
    "        if product.find('span',class_='price__fraction') != None:\n",
    "            pricerpreciodescuento.append(float(product.find('span',class_='price__fraction').get_text().replace(',','').strip()))\n",
    "        else:\n",
    "            pricerpreciodescuento.append(0)\n",
    "    # se guardan listas en un dataframe\n",
    "    df = pd.DataFrame({'Producto':name,'P_Original':priceroriginal,'P_Oferta':pricerpreciodescuento})\n",
    "    \n",
    "    \n",
    "    return df\n",
    "\n",
    "##########################################################\n",
    "# Comienza programa\n",
    "##########################################################\n",
    "# se hace el request de categoria de celulares\n",
    "res = requests.get(\"https://celulares.mercadolibre.com.mx/\")\n",
    "URL = BeautifulSoup(res.text,\"lxml\")\n",
    "\n",
    "#Se obtiene el listado de productos de la pagina principal\n",
    "df_full=GetProducts(URL)\n",
    "\n",
    "#Se obtienen los links de las paginas, se descarta el primer link que es # y se elimina el ultimo porque es link de \n",
    "#   la primera pagina\n",
    "URLPages = [a['href'] for a in URL.find_all('a', class_='andes-pagination__link', href=True) if a['href'] != '#']\n",
    "del URLPages[len(URLPages)-1]\n",
    "\n",
    "#########################\n",
    "#Se realiza el recorrido de las paginas\n",
    "for page in URLPages:\n",
    "    #se imprime URL procesada\n",
    "    print(page)\n",
    "    #se genera el request de la URL\n",
    "    res = requests.get(page)\n",
    "    URL = BeautifulSoup(res.text,\"lxml\")\n",
    "    #se manda llama la funcion y regresa un dataframe de productos\n",
    "    dfProductos=GetProducts(URL)\n",
    "    #Se van concatendando los dataframe de cada pagina \n",
    "    df_full=df_full.append(dfProductos)\n",
    "    \n",
    "    \n",
    "\n",
    "#Operacion de Precio en dolares y se salva en nueva columna    \n",
    "df_full['P_dolares'] = [(pd.to_numeric(precio)/20) if precio != 0 else np.nan for precio in df_full['P_Oferta']]\n",
    "\n",
    "#Resultado se exportan a un archivo CSV\n",
    "df_full.to_csv (r'lista_celulares.csv', index = False, header=True) \n",
    "\n",
    "# Se imprime el numero de celulares\n",
    "print(str(len(df_full))+' celulares recopilados')\n",
    "\n",
    "#Se imprime histograma\n",
    "df_full.hist(column='P_Oferta')\n",
    "    \n",
    "\n"
   ]
  },
  {
   "cell_type": "code",
   "execution_count": null,
   "metadata": {},
   "outputs": [],
   "source": []
  }
 ],
 "metadata": {
  "kernelspec": {
   "display_name": "Python 3",
   "language": "python",
   "name": "python3"
  },
  "language_info": {
   "codemirror_mode": {
    "name": "ipython",
    "version": 3
   },
   "file_extension": ".py",
   "mimetype": "text/x-python",
   "name": "python",
   "nbconvert_exporter": "python",
   "pygments_lexer": "ipython3",
   "version": "3.7.4"
  }
 },
 "nbformat": 4,
 "nbformat_minor": 2
}
