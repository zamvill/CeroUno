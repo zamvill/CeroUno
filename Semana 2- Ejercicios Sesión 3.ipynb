{
 "cells": [
  {
   "cell_type": "markdown",
   "metadata": {},
   "source": [
    "## Ejercicios Sesión 3"
   ]
  },
  {
   "cell_type": "markdown",
   "metadata": {},
   "source": [
    "1. Escribe un script que tome un número ingresado por el usuario e imprima si es positivo, negativo o cero.\n",
    "\n",
    " Debe imprimirse de la siguiente forma \"El número ingresado es (positivo / negativo / cero)\"."
   ]
  },
  {
   "cell_type": "code",
   "execution_count": 22,
   "metadata": {},
   "outputs": [
    {
     "name": "stdout",
     "output_type": "stream",
     "text": [
      "Inserta un numero 5\n",
      "positivo\n"
     ]
    }
   ],
   "source": [
    "x = input(\"Inserta un numero \")\n",
    "#type(x)\n",
    "x=int(x)\n",
    "\n",
    "if x < 0:\n",
    "    print(\"negativo\")\n",
    "elif x == 0:\n",
    "    print(\"cero\")\n",
    "else:\n",
    "    print(\"positivo\")\n"
   ]
  },
  {
   "cell_type": "markdown",
   "metadata": {},
   "source": [
    "2. Escribe una secuencia de comandos que tome dos números ingresados por el usuario e imprima \"El primer número es mayor\" o \"El segundo número es mayor\" dependiendo de cuál sea mayor. (** Sugerencia **: necesitará usar `input ()` dos veces.)"
   ]
  },
  {
   "cell_type": "code",
   "execution_count": 23,
   "metadata": {},
   "outputs": [
    {
     "name": "stdout",
     "output_type": "stream",
     "text": [
      "Inserta un numero 9\n",
      "Inserta otro numero 1\n",
      "El primer número es mayor\n"
     ]
    }
   ],
   "source": [
    "x=int(input(\"Inserta un numero \"))\n",
    "y=int(input(\"Inserta otro numero \"))\n",
    "\n",
    "if x > y:\n",
    "    print(\"El primer número es mayor\")\n",
    "elif x < y:\n",
    "    print(\"El segundo número es mayor\")\n",
    "else:\n",
    "    print(\"Son iguales los numeros\")"
   ]
  },
  {
   "cell_type": "markdown",
   "metadata": {},
   "source": [
    "3. Escriba un script que calcule la suma de 0 a un número ingresado por el usuario. Sin embargo, esta vez, comience con el número ingresado por el usuario y continúe hacia abajo. Esta respuesta se parecerá mucho al ejemplo anterior, solo tendrá que cambiar un par de cosas."
   ]
  },
  {
   "cell_type": "code",
   "execution_count": 24,
   "metadata": {},
   "outputs": [
    {
     "name": "stdout",
     "output_type": "stream",
     "text": [
      "Inserta un numero 4\n",
      "10\n"
     ]
    }
   ],
   "source": [
    "#4+3+2+1=10\n",
    "\n",
    "x=int(input(\"Inserta un numero \"))\n",
    "z=x\n",
    "sum=0\n",
    "while z > 0: \n",
    "    sum = sum + z\n",
    "    z = z - 1\n",
    "\n",
    "print(sum)"
   ]
  },
  {
   "cell_type": "markdown",
   "metadata": {},
   "source": [
    "4. Escriba un script que calcule el factorial de un número ingresado por el usuario. Si no sabe qué es un factorial o necesita una revisión, consulte el enlace (https://en.wikipedia.org/wiki/Factorial). Una vez más, su solución se parecerá mucho al código anterior. Cosas que debes pensar:\n",
    "    * ¿Cuál es el proceso de calcular un factorial si fuera a calcularlo a mano?\n",
    "    * ¿Cuál es el punto de partida común cuando se trata de calcular el factorial de cualquier número? <br> <br>"
   ]
  },
  {
   "cell_type": "code",
   "execution_count": 25,
   "metadata": {},
   "outputs": [
    {
     "name": "stdout",
     "output_type": "stream",
     "text": [
      "Inserta un numero 6\n",
      "Factorial de 6 = 720\n"
     ]
    }
   ],
   "source": [
    "#El calculo manual de factorial de 6\n",
    "# 6*5*4*3*2*1 =720\n",
    "\n",
    "\n",
    "num = input(\"Inserta un numero \")\n",
    "x = int(num)\n",
    "count = 1\n",
    "z = 1\n",
    "while z <= x:\n",
    "    count = count * z\n",
    "    z = z + 1\n",
    "print(\"Factorial de \"+ str(x) +\" = \" + str(count))\n"
   ]
  },
  {
   "cell_type": "markdown",
   "metadata": {},
   "source": [
    "5. Escriba un script que calcule e imprima todos los divisores de un número ingresado por el usuario. Si no sabe qué es un divisor o necesita una revisión, consulte el enlace(https://en.wikipedia.org/wiki/Divisor). Cosas para pensar:\n",
    "    * ¿Cómo se determina si un solo número es un divisor de otro?\n",
    "    * ¿Cómo haces esto varias veces (** Sugerencia **: implica un ciclo while)?\n",
    "    * ¿Cuándo detiene el ciclo? <br> <br>"
   ]
  },
  {
   "cell_type": "code",
   "execution_count": 27,
   "metadata": {},
   "outputs": [
    {
     "name": "stdout",
     "output_type": "stream",
     "text": [
      "Inserta un numero 13\n",
      "[1, 13]\n"
     ]
    }
   ],
   "source": [
    "num = input(\"Inserta un numero \")\n",
    "x = int(num)\n",
    "mi_lista = []\n",
    "count = 1\n",
    "z = 1\n",
    "while z <= x:\n",
    "    div = x % z\n",
    "    if div == 0:\n",
    "        mi_lista.append(z)\n",
    "    z = z + 1\n",
    "print(mi_lista)\n"
   ]
  },
  {
   "cell_type": "markdown",
   "metadata": {},
   "source": [
    "6. Escriba un script que calcule el máximo divisor común entre dos números ingresados por el usuario. Si no sabe cuál es el mayor divisor común, consulte el enlace (https://en.wikipedia.org/wiki/Greatest_common_divisor). Cosas para pensar:\n",
    "    * ¿Cómo se obtienen dos números del usuario?\n",
    "    * ¿Dónde debe comenzar su búsqueda del GCD?\n",
    "    * ¿Dónde / cómo debe finalizar su búsqueda? <br> <br>"
   ]
  },
  {
   "cell_type": "code",
   "execution_count": 41,
   "metadata": {},
   "outputs": [
    {
     "name": "stdout",
     "output_type": "stream",
     "text": [
      "Inserta un numero 1: 16\n",
      "Inserta un numero 2: 12\n",
      "1:: 0 and 0\n",
      "    entro:1\n",
      "2:: 0 and 0\n",
      "    entro:2\n",
      "3:: 1 and 0\n",
      "4:: 0 and 0\n",
      "    entro:4\n",
      "5:: 1 and 2\n",
      "6:: 4 and 0\n",
      "7:: 2 and 5\n",
      "8:: 0 and 4\n",
      "9:: 7 and 3\n",
      "10:: 6 and 2\n",
      "11:: 5 and 1\n",
      "12:: 4 and 0\n",
      "GCD= 4\n"
     ]
    }
   ],
   "source": [
    "x = int(input(\"Inserta un numero 1: \"))\n",
    "y = int(input(\"Inserta un numero 2: \"))\n",
    "\n",
    "if x > y: \n",
    "    cont = y \n",
    "else: \n",
    "    cont = x \n",
    "for i in range(1, cont+1):\n",
    "    a=x % i\n",
    "    b=y % i\n",
    "    print(str(i)+\":: \"+str(a)+\" and \"+str(b))\n",
    "    if((x % i == 0) and (y % i == 0)): \n",
    "        gcd = i\n",
    "        print(\"    entro:\"+str(gcd))\n",
    "print(\"GCD= \"+str(gcd))\n",
    "  \n",
    "\n",
    "\n"
   ]
  },
  {
   "cell_type": "markdown",
   "metadata": {},
   "source": [
    "7. Escribe un script que calcule el mínimo común múltiplo entre dos números ingresados por el usuario. Si no sabes cuál es el mínimo común múltiplo o deseas una revisión, puedes consultar (https://en.wikipedia.org/wiki/Least_common_multiple). Cosas para pensar:\n",
    "    * ¿Cómo se obtienen dos números del usuario?\n",
    "    * ¿Dónde debe comenzar su búsqueda del LCM?\n",
    "    * ¿Dónde / cómo debe finalizar su búsqueda? <br> <br>"
   ]
  },
  {
   "cell_type": "markdown",
   "metadata": {},
   "source": [
    "Example\n",
    "What is the LCM of 4 and 6?\n",
    "\n",
    "Multiples of 4 are:\n",
    "\n",
    "4, 8, 12, 16, 20, 24, 28, 32, 36, 40, 44, 48, 52, 56, 60, 64, 68, 72, 76, ...\n",
    "and the multiples of 6 are:\n",
    "\n",
    "6, 12, 18, 24, 30, 36, 42, 48, 54, 60, 66, 72, ...\n",
    "Common multiples of 4 and 6 are simply the numbers that are in both lists:\n",
    "\n",
    "12, 24, 36, 48, 60, 72, ....\n",
    "So, from this list of the first few common multiples of the numbers 4 and 6, their least common multiple is 12."
   ]
  },
  {
   "cell_type": "code",
   "execution_count": 50,
   "metadata": {},
   "outputs": [
    {
     "name": "stdout",
     "output_type": "stream",
     "text": [
      "Inserta un numero 1: 4\n",
      "Inserta un numero 2: 6\n",
      "\n",
      "6:: 2 and 0\n",
      "7:: 3 and 1\n",
      "8:: 0 and 2\n",
      "9:: 1 and 3\n",
      "10:: 2 and 4\n",
      "11:: 3 and 5\n",
      "12:: 0 and 0\n",
      "    entro:12\n",
      "\n",
      "LCM= 12\n"
     ]
    }
   ],
   "source": [
    "x = int(input(\"Inserta un numero 1: \"))\n",
    "y = int(input(\"Inserta un numero 2: \"))\n",
    "print()\n",
    "\n",
    "if x > y:\n",
    "    mayor = x\n",
    "else:\n",
    "    mayor = y\n",
    "while(True):\n",
    "    a=mayor % x\n",
    "    b=mayor % y\n",
    "    print(str(mayor)+\":: \"+str(a)+\" and \"+str(b))\n",
    "    \n",
    "    if((mayor % x == 0) and (mayor % y == 0)):\n",
    "        lcm = mayor\n",
    "        print(\"    entro:\"+str(lcm))\n",
    "        break\n",
    "    mayor += 1\n",
    "print()\n",
    "print(\"LCM= \"+str(lcm))\n",
    "\n"
   ]
  },
  {
   "cell_type": "markdown",
   "metadata": {},
   "source": [
    "8. Escribe una secuencia de comandos que determine si un número ingresado por el usuario es un número primo e imprime `` El número que ingresó es (no es) un número primo '', según lo que encuentre su secuencia de comandos. Si no sabes qué es un número primo o necesita una revisión, consulte el enlace (https://en.wikipedia.org/wiki/Prime_number). Cosas para pensar:\n",
    "    * ¿Cómo verifica si un número es divisible por otro número?\n",
    "    * ¿Qué números son divisibles por un número primo?\n",
    "    * ¿Cómo verifica todos los números por los que un número puede ser divisible (** Sugerencia **: use un bucle)?\n",
    "    * ¿Cuándo detiene el ciclo? <br> <br>"
   ]
  },
  {
   "cell_type": "code",
   "execution_count": 19,
   "metadata": {},
   "outputs": [
    {
     "name": "stdout",
     "output_type": "stream",
     "text": [
      "Inserta un numero: 12\n",
      "12 no es numero primo\n"
     ]
    }
   ],
   "source": [
    "num = int(input(\"Inserta un numero: \"))\n",
    "\n",
    "if num > 1:  \n",
    "   for i in range(2,num):  \n",
    "       if (num % i) == 0:  \n",
    "           print(num,\"no es numero primo\")              \n",
    "           break  \n",
    "   else:  \n",
    "       print(num,\"es numero primo\")  \n",
    "         \n",
    "else:  \n",
    "   print(num,\"no es numero primo\")  "
   ]
  },
  {
   "cell_type": "code",
   "execution_count": null,
   "metadata": {},
   "outputs": [],
   "source": []
  },
  {
   "cell_type": "code",
   "execution_count": null,
   "metadata": {},
   "outputs": [],
   "source": []
  }
 ],
 "metadata": {
  "kernelspec": {
   "display_name": "Python 3",
   "language": "python",
   "name": "python3"
  },
  "language_info": {
   "codemirror_mode": {
    "name": "ipython",
    "version": 3
   },
   "file_extension": ".py",
   "mimetype": "text/x-python",
   "name": "python",
   "nbconvert_exporter": "python",
   "pygments_lexer": "ipython3",
   "version": "3.7.4"
  }
 },
 "nbformat": 4,
 "nbformat_minor": 2
}
